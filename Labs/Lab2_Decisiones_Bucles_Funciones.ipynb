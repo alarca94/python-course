{
 "cells": [
  {
   "cell_type": "markdown",
   "metadata": {},
   "source": [
    "# Python para Linguists\n",
    "\n",
    "Notebook 2: Estructuras de Decisión. Bucles. Funciones.\n",
    "\n",
    "Alejandro Ariza\n",
    "\n",
    "Universitat de Barcelona 2022"
   ]
  },
  {
   "cell_type": "markdown",
   "metadata": {},
   "source": [
    "### Estructuras de decisión\n",
    "\n",
    "Las estructuras de decisión determinan las acciones que un programa toma.\n",
    "\n",
    "Las estructuras de decisión contienen:\n",
    "* condiciones\n",
    "* instrucciones (acciones)\n",
    "\n",
    "las estructuras de decisión comienzan con la palabra reservada ``if`` para el caso en que la condición devuelve True y con la palabra ``else`` en caso contrario."
   ]
  },
  {
   "cell_type": "code",
   "execution_count": null,
   "metadata": {},
   "outputs": [],
   "source": [
    "# Comenzamos definiendo una variable que utilizaremos más adelante\n",
    "# En un programa real, podemos obtener la hora actual con funciones ya preparadas para ello\n",
    "# Sin embargo, en este caso, inicializaremos la hora nosotros manualmente\n",
    "hora = 9\n",
    "if hora < 12:\n",
    "    print('Buenos días!')\n",
    "else:\n",
    "    print('Buenas tardes!')\n",
    "    \n"
   ]
  },
  {
   "cell_type": "code",
   "execution_count": null,
   "metadata": {},
   "outputs": [],
   "source": [
    "# Tarea 1:\n",
    "# ¿Puedes modificar el código de forma que devuelva los siguientes valores con sus respectivas condiciones?\n",
    "# - \"Buenos días\" si la hora es <12\n",
    "# - \"Buenas tardes\" si la hora está entre 12 y 18\n",
    "# - \"Buenas noches\" si la hora es >18"
   ]
  },
  {
   "cell_type": "code",
   "execution_count": null,
   "metadata": {},
   "outputs": [],
   "source": [
    "# Tarea 2:\n",
    "# Hacer lo mismo que en la tarea 1, pero con los operadores <= y >= en vez de < y >\n",
    "# Además, si la hora es exactamente 12, el programa debe decir \"¡Es mediodía!\" en vez de un saludo"
   ]
  },
  {
   "cell_type": "code",
   "execution_count": null,
   "metadata": {},
   "outputs": [],
   "source": [
    "# Tarea 3:\n",
    "# En este ejemplo, comprobaremos la \"validez\" de una nueva contraseña\n",
    "\n",
    "# La contraseña vieja es \"contraseña\"\n",
    "old_password=\"contraseña\"\n",
    "\n",
    "# Ésta es la nueva contraseña, deberás cambiar su valor para testear\n",
    "new_password=\"contraseña\"\n",
    "\n",
    "# Necesitas comprobar si la nueva contraseña es igual que la antigua\n",
    "# Si son iguales, debería imprimir un mensaje de error.\n",
    "\n",
    "# Adicionalmente, comprueba que las contraseñas en minúsculas son diferentes\n",
    "\n",
    "\n",
    "# Si la contraseña nueva NO es la misma, comprueba si la nueva contraseña contiene al menos 10 carateres\n",
    "# Si es más corta que 10 caracteres, imprime un mensaje de error\n",
    "# Si tiene al menos 10 caracteres, imprime un mensaje de confirmación de que la contraseña es válida"
   ]
  },
  {
   "cell_type": "markdown",
   "metadata": {},
   "source": [
    "### Bucles\n",
    "\n",
    "Los bucles nos permiten ejecutar el mismo código múltiples veces sin necesidad de repetirlo.\n",
    "\n",
    "En esta sección vamos a trabajar con el bucle ``while``. \n",
    "\n",
    "El bucle while es muy similar a las estructures de decisión. También evalua condiciones y tiene instrucciones.\n",
    "\n",
    "La diferencia se encuentra en que las instrucciones dentro de un bucle while se ejecutan repetidamente mientras \n",
    "se cumpla la condición mientras en que en las estructuras de decisión solo se ejecutan una vez."
   ]
  },
  {
   "cell_type": "code",
   "execution_count": null,
   "metadata": {},
   "outputs": [],
   "source": [
    "# Ahora veremos la diferencia entre usar bucles y tener que repetir el código X veces\n",
    "# El siguiente código imprime \"Hello World\" 10 veces\n",
    "print(\"Hello World\")\n",
    "print(\"Hello World\")\n",
    "print(\"Hello World\")\n",
    "print(\"Hello World\")\n",
    "print(\"Hello World\")\n",
    "print(\"Hello World\")\n",
    "print(\"Hello World\")\n",
    "print(\"Hello World\")\n",
    "print(\"Hello World\")\n",
    "print(\"Hello World\")"
   ]
  },
  {
   "cell_type": "code",
   "execution_count": null,
   "metadata": {},
   "outputs": [],
   "source": [
    "# Ahora hacemos lo mismo con un bucle while\n",
    "num_printed = 0\n",
    "while num_printed < 10:\n",
    "    print(\"Hello World\")\n",
    "    num_printed = num_printed +1"
   ]
  },
  {
   "cell_type": "code",
   "execution_count": null,
   "metadata": {},
   "outputs": [],
   "source": [
    "# Tarea 4:\n",
    "# En vez de imprimir solamente \"Hello World\", ahora imprimiremos \"Hello World\" y el número de iteración. Por ejemplo:\n",
    "# Hello World 1\n",
    "# Hello World 2\n",
    "# Hello World 3\n",
    "# Usa un bucle while. Recuerda como se concatenan los strings! Deberás convertir un número entero a un string para\n",
    "# poder concatenarlo!"
   ]
  },
  {
   "cell_type": "markdown",
   "metadata": {},
   "source": [
    "### Funciones y Métodos\n",
    "\n",
    "Las funciones y los métodos son una forma de \"nombrar\" y \"reutilizar\" algoritmos, al igual que las variables son una herramienta para \"nombrar\" y \"reutilizar\" datos.\n",
    "\n",
    "Las funciones tienen argumentos de entrada y devuelven valores.\n",
    "\n",
    "Hay dos tipos de funciones - funciones que \"hacen cosas\" y funciones que \"hacen y devuelven cosas\""
   ]
  },
  {
   "cell_type": "code",
   "execution_count": null,
   "metadata": {},
   "outputs": [],
   "source": [
    "# Observa la función ejemplo de las diapositivas\n",
    "\n",
    "\n",
    "# La siguiente función es una función que \"hace algo\" pero no devuelve nada\n",
    "# Creamos la función con dos argumentos de entrada - edad y sexo\n",
    "def personal_info(edad, sexo):\n",
    "    # Comprobamos si la edad es menor de 25\n",
    "    if edad <25:\n",
    "        # Comprobamos si el sexo es femenino\n",
    "        if sexo == \"f\":\n",
    "            # Si el usuario es más joven de 25 y mujer, imprimimos \"Mujer joven\"\n",
    "            print(\"Mujer joven!\")\n",
    "        else:\n",
    "            # Si por el contrario, el usuario es menor de 25 pero NO es mujer, imprimimos \"Hombre joven\"\n",
    "            print(\"Hombre joven!\")\n",
    "    else:\n",
    "        # Si la persona en mayor de 25, imprimimos \"Persona sabia\"\n",
    "        print (\"Persona sabia!\")\n",
    "\n",
    "# Invocamos a la función que \"hace algo\" llamándola por su nombre y asignando los parámetros        \n",
    "# En este ejemplo, llamamos a la función dándole 23 (en la posición de la edad) y \"f\" en el atributo del sexo.\n",
    "# ¿Por qué 23 no esta delimitado por dobles comillas y \"f\" sí?\n",
    "personal_info(23,\"f\")\n",
    "\n",
    "# También puedes llamar a la función asignándole valores a los parámetros de entrada de forma explícita\n",
    "personal_info(edad=23, sexo=\"f\")  \n",
    "# En este caso, cuando especificamos el par parámetro-valor, el orden de los parámetros de entrada se puede cambiar\n",
    "# personal_info(edad=23, sexo=\"f\") es lo mismo que personal_info(sexo=\"f\", edad=23)\n",
    "# personal_info(23,\"f\") NO es lo mismo que personal_info(\"f\", 23) y, en el segundo caso, os dará error\n",
    "\n",
    "# La función personal_info() es similas a la función print()\n",
    "print(\"Hola\")\n",
    "\n",
    "# No asignamos la salidad de estas funciones a ninguna variable porque va a ser siempre None\n",
    "# i.e.: No escribimos código como\n",
    "#\n",
    "#  mi_var = print(\"Hola\")\n",
    "#  mi_var = personal_info(23,\"f\")"
   ]
  },
  {
   "cell_type": "code",
   "execution_count": null,
   "metadata": {},
   "outputs": [],
   "source": [
    "# El siguiente código es una función que \"devuelve algo\"\n",
    "# Es similar a la anterior función pero se comporta de una forma ligeramente diferente\n",
    "# Definimos la función y le damos dos parámetros - edad y sexo\n",
    "def personal_info_2(edad, sexo):\n",
    "    # Creamos nuestra variable de salida\n",
    "    valor_out = \"\"\n",
    "    # Comprobamos si la edad es menor que 25\n",
    "    if edad <25:\n",
    "        # Comprobamos si es mujer\n",
    "        if sexo == \"f\":\n",
    "            # Si el usuario es menor de 25 y mujer, modificamos valor_out a \"Mujer joven\"\n",
    "            valor_out = \"Mujer joven!\"\n",
    "        else:\n",
    "            # De lo contrario (hombre menor de 25), modificamos valor_out a \"Hombre joven\"\n",
    "            valor_out = \"Hombre joven!\"\n",
    "    else:\n",
    "        # Si la persona es mayor de 25, modificamos nuestro valor_out a \"Persona sabia\"\n",
    "        valor_out = \"Persona sabia!\"\n",
    "    \n",
    "    # Devolvemos valor_out\n",
    "    return valor_out\n",
    "\n",
    "# A diferencia de la función que únicamente \"hace algo\", esta función también \"te devuelve algo\" que necesita ser asignado a una variable\n",
    "mi_perfil = personal_info_2(23,\"f\")\n",
    "\n",
    "# La función personal_info_2() es similar a la función len() que cuenta el número de caracteres de un string\n",
    "str_len = len(\"Un texto\")\n",
    "\n",
    "# Puedes utilizar los valores de las variables mi_perfil y str_len para imprimir o hacer algo con los datos que contienen\n",
    "print(mi_perfil)\n",
    "\n",
    "# Siempre asegurate de pensar qué tipo de función estás usando\n",
    "# 1) función que \"hace algo\" (e.g.: \"imprimir algo por pantalla\", \"abrir la puerta\")\n",
    "# o\n",
    "# 2) función que te \"devuelve algo\"  (e.g.: \"¿Cuántos caracteres hay?\", \"¿Qué día de la semana es hoy?\")"
   ]
  },
  {
   "cell_type": "code",
   "execution_count": null,
   "metadata": {},
   "outputs": [],
   "source": [
    "# Escribe una función para el ejercicio de los Saludos que hemos visto al principio\n",
    "# El parámetro de entrada de la función debe ser la hora"
   ]
  },
  {
   "cell_type": "code",
   "execution_count": null,
   "metadata": {},
   "outputs": [],
   "source": [
    "# Escribe una función para el ejercicio de la Contraseña\n",
    "# Los dos parámetros de entrada deben de ser la nueva y la vieja contraseña"
   ]
  },
  {
   "cell_type": "markdown",
   "metadata": {},
   "source": [
    "### Ejercicios avanzados\n",
    "\n",
    "Los siguientes ejercicios son un poco más complicados que lo que hemos ido haciendo hasta ahora. Harán uso de todo lo que habéis aprendido hasta la fecha. "
   ]
  },
  {
   "cell_type": "markdown",
   "metadata": {},
   "source": [
    "### Una frase aleatoria\n",
    "Recuerda que un bloque de código **while** se ejecuta repetidas veces hasta que la condición que evalúa se convierte en False. La función **getRandomWord()**, definida más abajo, cuando se le llama en el código devuelve un string que contiene una palabra o punto final. Queremos llamar a la función repetidas veces para construir una frase con las palabras aleatorias que nos devuelve. La frase puede tener cualquier longitud (incluso estar vacía), con el único requisito de que termine en punto. Finalmente, imprime el proceso de generación de frase llamando a **print()** cada vez que recibes una nueva palabra.\n",
    "\n",
    "*Pistas:*\n",
    "* El resultado de la función puede ser guardado en una variable e.g. ```palabra = getRandomWord()```\n",
    "* Asegúrate de que la sentencia **while** funciona en todas las iteraciones, incluyendo la primera. Recuerda que el código funcione secuencialmente de principio a fin. Quizá debéis hacer algo previo a la primera iteración."
   ]
  },
  {
   "cell_type": "code",
   "execution_count": null,
   "metadata": {},
   "outputs": [],
   "source": [
    "# No necesitas modificar esta función\n",
    "def getRandomWord():\n",
    "    palabras = ['un', 'el', 'en', 'con', 'mujer', 'hombre', 'gato', 'perro', 'trabajando', 'barcos', 'volando', 'zapatos', '.']\n",
    "    import random\n",
    "    return random.choice(palabras)\n",
    "\n",
    "# Añade tu código aquí\n"
   ]
  },
  {
   "cell_type": "markdown",
   "metadata": {},
   "source": [
    "### Controlando frases largas\n",
    "Nuestro primer generador de frases fue correcto (?) pero la longitud de las frases es completamente aleatoria, y en algunas ejecuciones puede llegar a ser excesivamente larga si tenemos mala suerte. Queremos prevenir esto configurando una longitud máxima de frase en 5 palabras (6 incluyendo el punto). Re-escribe el código anterior añadiendo las modificaciones necesarias para conseguir el objetivo.\n",
    "\n",
    "*Pistas:*\n",
    "* Necesitarás algo para contar el número de iteraciones del bucle.\n",
    "* Recuerda que puedes hacer las expresiones booleanas tan complejas como quieras (siempre siguiendo las normas de Python), por ejemplo, uniendo varias condiciones con operadores lógicos (and, or, not, etc).\n",
    "* Asegúrate de que tu programa acaba correctamente (con un punto) en todos los casos. Puede que necesites añadir algo para conseguirlo."
   ]
  },
  {
   "cell_type": "code",
   "execution_count": null,
   "metadata": {},
   "outputs": [],
   "source": [
    "# Añade tu código aquí\n"
   ]
  },
  {
   "cell_type": "markdown",
   "metadata": {},
   "source": [
    "### Evitando sucesivas repeticiones de palabras\n",
    "En diferentes ejecucions de nuestro super generador de frases, has podido ver resultados como **\"hombre hombre trabajando.\"**, y queda muy feo que la misma palabra aparezca repetidas veces una detrás de otra. Queremos evitar esto también. Re-escribe tu código para que solo imprima una palabra si es diferente a la anterior.\n",
    "\n",
    "*Pistas:*\n",
    "* Hasta la fecha, probablemente solo guardabas los últimos datos generados por cada iteración y los descartabas cuando generabas nuevos datos. Ahora, piensa lo que necesitas tener disponible en la siguiente iteración y encuentra una forma de mantenerlo antes de que llegue la nueva palabra."
   ]
  },
  {
   "cell_type": "code",
   "execution_count": null,
   "metadata": {
    "scrolled": true
   },
   "outputs": [],
   "source": [
    "# Añade tu código aquí\n"
   ]
  },
  {
   "cell_type": "markdown",
   "metadata": {},
   "source": [
    "### Controlando frases cortas\n",
    "Le dijimos a nuestro generador que no generase frases largas. Estaría bien si también pudiésemos evitar frases muy cortas. Re-escribe el código para que solo produzca frases con longitud entre 5 y 20 palabras más el punto final.\n",
    "\n",
    "*Pistas:*\n",
    "* Recuerda que el punto solo debe aparecer al final de la frase.\n",
    "* Algún tipo de distinción debes hacer entre la palabra candidata de ser añadida y la palabra que realmente va a ser añadida.\n",
    "* Operadores lógicos pueden ayudarte de nuevo.\n",
    "* Este ejercicio es más difícil que el resto. Si no puedes encontrar una solución a la primera, simplifica el problema intentando resolver las cosas que entiendas y acércate de forma progresiva a la solución. Hacerse un esquema antes de empezar a codificar suele ayudar."
   ]
  },
  {
   "cell_type": "code",
   "execution_count": null,
   "metadata": {},
   "outputs": [],
   "source": [
    "# Añade tu código aquí\n"
   ]
  },
  {
   "cell_type": "code",
   "execution_count": null,
   "metadata": {},
   "outputs": [],
   "source": []
  }
 ],
 "metadata": {
  "kernelspec": {
   "display_name": "Python 3",
   "language": "python",
   "name": "python3"
  },
  "language_info": {
   "codemirror_mode": {
    "name": "ipython",
    "version": 3
   },
   "file_extension": ".py",
   "mimetype": "text/x-python",
   "name": "python",
   "nbconvert_exporter": "python",
   "pygments_lexer": "ipython3",
   "version": "3.8.5"
  }
 },
 "nbformat": 4,
 "nbformat_minor": 2
}
