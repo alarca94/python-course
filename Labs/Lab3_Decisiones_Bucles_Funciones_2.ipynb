{
 "cells": [
  {
   "cell_type": "markdown",
   "metadata": {},
   "source": [
    "# Python para Linguistas\n",
    "\n",
    "Notebook 3: Estructuras de decisión. Bucles. Funciones. Parte 2\n",
    "\n",
    "Alejandro Ariza\n",
    "\n",
    "Universitat de Barcelona 2022"
   ]
  },
  {
   "cell_type": "markdown",
   "metadata": {},
   "source": [
    "### Estructuras de decisión y bucles (Parte 2)\n",
    "\n",
    "In this notebook we will practice more with decision structures and loops\n",
    "\n"
   ]
  },
  {
   "cell_type": "code",
   "execution_count": null,
   "metadata": {},
   "outputs": [],
   "source": [
    "# Comenzaremos experimentando con el bucle for\n",
    "# Este es el ejemplo de las diapositivas\n",
    "# Comprobaremos el código y entenderemos su funcionamiento viendo lo que guarda la variable palabra en cada iteración\n",
    "for palabra in [\"Esto\", \"es\", \"una\", \"frase\"]:\n",
    "    print(palabra)\n",
    "\n"
   ]
  },
  {
   "cell_type": "code",
   "execution_count": null,
   "metadata": {},
   "outputs": [],
   "source": [
    "# Tarea 1\n",
    "# Hacer el mismo \"Hello World\" que en el notebook de la semana pasada, pero utilizando un bucle \"for\"\n",
    "# La salida por pantalla deseada es:\n",
    "# Hello World 1\n",
    "# Hello World 2\n",
    "# Hello World 3"
   ]
  },
  {
   "cell_type": "code",
   "execution_count": null,
   "metadata": {},
   "outputs": [],
   "source": [
    "# Tarea 2\n",
    "# Escribe una función para la Tarea 1, que tome dos parámetros: número de repeticiones y el texto"
   ]
  },
  {
   "cell_type": "code",
   "execution_count": null,
   "metadata": {},
   "outputs": [],
   "source": [
    "# La función nativa input() pide una interacción al usuario\n",
    "# Puedes introducir un valor en la interacción con la función input() y guardarlo en una variable\n",
    "human_inp = input(\"¿Cómo te llamas? \")\n",
    "print(\"Encantado de conocerte \" + human_inp)"
   ]
  },
  {
   "cell_type": "code",
   "execution_count": null,
   "metadata": {},
   "outputs": [],
   "source": [
    "# Tarea 3:\n",
    "# Copia el código de la función saludo() del previo notebook\n",
    "# Asegúrate de añadir un control para números negativos y superiores a 25\n",
    "# Modificar el código para que incluya un nombre en el saludo\n",
    "# Usar la función input() para pedir la hora y el nombre del usuario\n",
    "# Saludar a la persona de acuerdo a la información introducida"
   ]
  },
  {
   "cell_type": "code",
   "execution_count": null,
   "metadata": {},
   "outputs": [],
   "source": [
    "# Tarea 4:\n",
    "# En esta tarea usaremos la misma función para saludar que en la Tarea 1\n",
    "# Pedirle a la persona su nombre (una única vez)\n",
    "# Siempre y cuando la fecha sea menos que las 18:00, hacer lo siquiente:\n",
    "#     Preguntarle a la persona por la hora\n",
    "#     Saludar a la persona\n",
    "# \n",
    "# Continuar preguntando y saludando hasta que recibas una hora por encima de las 18\n",
    "# PISTA - para convertir el string a entero, usar la función int()\n",
    "\n",
    "    "
   ]
  },
  {
   "cell_type": "code",
   "execution_count": null,
   "metadata": {},
   "outputs": [],
   "source": [
    "# Avanzado! \n",
    "# Tarea 5:\n",
    "# En esta tarea queremos que el usuario nos dé el nombre de un país de la Unión Europea\n",
    "# Tenemos los nombres de los países en una lista predefinida\n",
    "# El programa funcionará de la siguiente manera:\n",
    "#    Le pedirá al usuario un país\n",
    "#    Comprobará si el país está en la lista\n",
    "#    Si el país es correcto, el programa imprimirá \"OK\" y se saldrá\n",
    "#    Si el país es incorrecto, el programa devolverá \"País equivocado\" y preguntará de nuevo\n",
    "# \n",
    "#    El programa deberá ignorar mayúscular y minúsculas\n",
    "# \n",
    "#    Hay al menos 3 formas de conseguirlo: usando \"for\", \"while\" o el operador especial \"in\" (buscad en Internet el funcionamiento)\n",
    "#    ¿Podéis conseguirlo con las tres?"
   ]
  },
  {
   "cell_type": "code",
   "execution_count": null,
   "metadata": {},
   "outputs": [],
   "source": []
  }
 ],
 "metadata": {
  "kernelspec": {
   "display_name": "Python 3",
   "language": "python",
   "name": "python3"
  },
  "language_info": {
   "codemirror_mode": {
    "name": "ipython",
    "version": 3
   },
   "file_extension": ".py",
   "mimetype": "text/x-python",
   "name": "python",
   "nbconvert_exporter": "python",
   "pygments_lexer": "ipython3",
   "version": "3.8.5"
  }
 },
 "nbformat": 4,
 "nbformat_minor": 2
}
