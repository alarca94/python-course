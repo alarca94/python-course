{
 "cells": [
  {
   "cell_type": "markdown",
   "metadata": {},
   "source": [
    "# Python para Lingüistas\n",
    "\n",
    "Notebook 5: Archivos\n",
    "\n",
    "Alejandro Ariza\n",
    "\n",
    "Universitat de Barcelona 2022"
   ]
  },
  {
   "cell_type": "markdown",
   "metadata": {},
   "source": [
    "### Strings, Listas, Diccionarios\n",
    "\n",
    "En este notebook vamos a continuar la última práctica acerca de strings, listas y diccionarios para extraer estadísticas básicas de los textos.\n",
    "\n",
    "Sin embargo, ahora vamos a usar ficheros de texto en vez de variables fijas.\n"
   ]
  },
  {
   "cell_type": "code",
   "execution_count": null,
   "metadata": {},
   "outputs": [],
   "source": [
    "# Para leer un fichero, primero debemos abrirlo\n",
    "\n",
    "# Comencemos abriendo el fichero \"manel.txt\"\n",
    "# El fichero \"manel.txt\" se encuentra en la misma carpeta que este script, por lo que no la ruta relativa es sencilla\n",
    "# Veamos la diferencia entre leer el fichero entero en un string y leerlo en una lista de string\n",
    "with open('manel.txt', 'r', encoding='utf-8') as f: \n",
    "    manel_str = f.read()\n",
    "\n",
    "with open('manel.txt', 'r', encoding='utf-8') as f_2:\n",
    "    manel_list = f_2.readlines()\n",
    "\n",
    "# Cuando cambiamos la indentación en Python con la función open(), Python cerrará el fichero automáticamente\n",
    "# cuando termine la indentación y no podremos utilizar f o f_2 (porque el fichero no está abierto).\n",
    "# Es importante cerrar los ficheros por lo que utilizar la estructura with open() as f: evitará que nos olvidemos\n",
    "# de cerrarlo. Otra opción sería: f = open(...) y cuando terminemos de leerlo, cerrarlo con f.close()\n",
    "\n",
    "print(\"El fichero leído como string\")\n",
    "print(manel_str)\n"
   ]
  },
  {
   "cell_type": "code",
   "execution_count": null,
   "metadata": {},
   "outputs": [],
   "source": [
    "# Veamos los primeros 100 caracteres del fichero:\n",
    "print(manel_str[:100])\n",
    "\n",
    "# Observad como print() procesa el string y correctamente muestra los saltos de línea\n",
    "# Si queremos ver el texto exáctamente con la forma que toma en el fichero, deberíamos utilizar la función repr()\n",
    "# Como podéis ver el fichero es un string muy largo (una única línea). El carácter especial \\n marca el salto de línea\n",
    "print(repr(manel_str[:100]))\n"
   ]
  },
  {
   "cell_type": "code",
   "execution_count": null,
   "metadata": {},
   "outputs": [],
   "source": [
    "# Ahora, veamos la versión en la que leemos el fichero como una lista de líneas\n",
    "print(manel_list[:5])"
   ]
  },
  {
   "cell_type": "code",
   "execution_count": null,
   "metadata": {},
   "outputs": [],
   "source": [
    "# Finalmente, veamos cómo leer el fichero línea por línea con un bucle for\n",
    "\n",
    "num_lines = 0\n",
    "\n",
    "with open('manel.txt', 'r', encoding='utf-8') as f_3:\n",
    "    for cur_line in f_3:\n",
    "        # Aunque en este código solamente imprimimos el número de línea y la línea, en programas más avanzados\n",
    "        # podríamos procesar el texto también (splitting, counting, etc)\n",
    "        print(\"Imprimiento la línea número \" + str(num_lines))\n",
    "        print(cur_line)\n",
    "        num_lines +=1"
   ]
  },
  {
   "cell_type": "code",
   "execution_count": null,
   "metadata": {},
   "outputs": [],
   "source": [
    "# La escritura de ficheros funciona de igual forma a lo visto en la teoría:\n",
    "with open('test.txt', 'w', encoding='utf-8') as f_4:\n",
    "    f_4.write(\"Un texto aquí\")\n",
    "    # El símbolo \"\\n\" sirve para escribir un salto de línea\n",
    "    f_4.write(\"\\n\")\n",
    "    # También podemos utilizar una variable para escribir su contenido en el fichero\n",
    "    str_to_write = \"Otro texto que termina con un salto de línea.\\n\"\n",
    "    f_4.write(str_to_write)\n",
    "    \n",
    "    # Podéis abrir el fichero con un editor de texto como notepad para ver lo que se ha escrito"
   ]
  },
  {
   "cell_type": "markdown",
   "metadata": {},
   "source": [
    "Para el ejercicio de hoy, continuaremos trabajando con estadísticas de texto sencillas.\n",
    "\n",
    "Usaremos el ejercicio de la semana pasada para leer un corpus, crear un vocabulario y contar las frecuencias de las palabras.\n",
    "\n",
    "Sin embargo, en vez de usar un corpus predefinido en una lista, lo leeremos de un fichero de texto.\n",
    "\n",
    "También pondremos requerimientos adicionales a la hora de contar caracteres."
   ]
  },
  {
   "cell_type": "code",
   "execution_count": null,
   "metadata": {},
   "outputs": [],
   "source": [
    "# La siguiente función abrirá un fichero y lo leerá línea por línea.\n",
    "# Hay 3 corpus disponibles en este laboratorio: \"manel\", \"macbeth\" y \"quijote\".\n",
    "\n",
    "def readLineFromText(text):\n",
    "    with open(text+'.txt', 'r', encoding='utf-8') as f:\n",
    "        for line in f:\n",
    "            yield line\n",
    "            \n",
    "# Observa el comportamiento de la función readLineFromText():\n",
    "# Es el mismo que el ejemplo que vimos previamente.\n",
    "\n",
    "for sentence in readLineFromText(\"manel\"):\n",
    "    print(\"Esto es una frase: \")\n",
    "    print(sentence)"
   ]
  },
  {
   "cell_type": "code",
   "execution_count": null,
   "metadata": {},
   "outputs": [],
   "source": [
    "# Utilizaremos las mismas funciones que creamos la semana pasada para imprimir y visualizar estadísticas del texto\n",
    "# No las modifiquéis\n",
    "import collections\n",
    "import matplotlib.pyplot as plt\n",
    "def mostCommonWords(d):\n",
    "    c = collections.Counter(d)\n",
    "    most = c.most_common(10)\n",
    "    print('Rank\\t\\tWord\\t\\tFrequency')\n",
    "    print('----\\t\\t----\\t\\t---------')\n",
    "    for i,(w,f) in enumerate(most):\n",
    "        print(str(i+1)+ '\\t\\t' + w + '\\t\\t' + str(f))\n",
    "\n",
    "def plot(d):\n",
    "    c = collections.Counter(d)\n",
    "    most = c.most_common()\n",
    "    plt.plot([x[1] for x in most])\n",
    "    plt.grid()\n",
    "    plt.xlabel('Rank (palabra)')\n",
    "    plt.ylabel('Frequencia')\n",
    "    \n",
    "    \n"
   ]
  },
  {
   "cell_type": "code",
   "execution_count": null,
   "metadata": {},
   "outputs": [],
   "source": [
    "# Tarea 1\n",
    "\n",
    "# Usa la función readLineFromText() para procesar el fichero de texto entero\n",
    "# Cuando leas la frase, separa todas las palabras usando split() y guárdalas en una lista, similar a como lo hicimos\n",
    "# en la Tarea 1 de la clase anterior"
   ]
  },
  {
   "cell_type": "code",
   "execution_count": null,
   "metadata": {},
   "outputs": [],
   "source": [
    "# Tarea 2 \n",
    "# Crea un vocabulario para los ficheros de texto, similar a como lo hicimos en la Tarea 2 de la clase anterior\n",
    "# El vocabulario no debe depender del uso de mayúsculas o minúsculas (\"SPAIN\", \"Spain\" y \"spain\" corresponden a la\n",
    "# misma entrada en el diccionario)\n",
    "# Ignora las stopwords y no las añadas al vocabulario\n",
    "# Por simplitud del ejercicio, consideraremos stopwords, aquellas palabras con longitud 3 o inferior\n",
    "# De forma alternativa, cread una variable de tipo lista con stopwords y comprobad que la palabra no se encuentra en esa lista\n"
   ]
  },
  {
   "cell_type": "code",
   "execution_count": null,
   "metadata": {},
   "outputs": [],
   "source": [
    "# Tarea 3\n",
    "# Calculad la frecuencia de las palabras de los ficheros de texto, similar la Tarea 3 de la clase anterior\n",
    "# Usa el vocabulario de la Tarea 2, ignorando mayúsculas y minúsculas e ignorando stopwords\n"
   ]
  },
  {
   "cell_type": "code",
   "execution_count": null,
   "metadata": {},
   "outputs": [],
   "source": [
    "# Tarea 4\n",
    "# Experimenta con el uso del diccionario Counter() de la librería collections\n",
    "# A diferencia de un diccionario normal, un Counter() no devuelve error al intentar modificar una clave que no existe\n",
    "# Por defecto, el valor para una clave nueva es 0\n",
    "# Podéis crear un nuevo contados con el siguiente código\n",
    "import collections\n",
    "count = counts = collections.Counter()\n",
    "\n",
    "# Re-haced la tarea 3 usando un diccionario Counter en vez de uno normal"
   ]
  },
  {
   "cell_type": "code",
   "execution_count": null,
   "metadata": {},
   "outputs": [],
   "source": [
    "# Tarea 5 (Avanzada)\n",
    "# Normaliza las frecuencias\n",
    "# Ahora cambiamos de frecuencias absolutas a frecuencias relativas por lo que cada frecuencia es el ratio de \n",
    "# ocurrencia de esa clave, con respecto al número total de ocurrencias en el corpus. Visualiza los nuevos resultados.\n",
    "# \n",
    "# Pistas:\n",
    "# - la frecuencia relativa de x = frecuencia absoluta x / suma de todas las frecuencias absolutas\n",
    "# - No necesitáis sumar todas las frecuencias absolutas cada vez que calculáis una frecuencia relativa\n",
    "#   Esto se debe a que es un valor constante. En su lugar, podéis calcularla una vez, guardarla en una variable y\n",
    "#   reusarla."
   ]
  }
 ],
 "metadata": {
  "kernelspec": {
   "display_name": "Python 3",
   "language": "python",
   "name": "python3"
  },
  "language_info": {
   "codemirror_mode": {
    "name": "ipython",
    "version": 3
   },
   "file_extension": ".py",
   "mimetype": "text/x-python",
   "name": "python",
   "nbconvert_exporter": "python",
   "pygments_lexer": "ipython3",
   "version": "3.8.5"
  }
 },
 "nbformat": 4,
 "nbformat_minor": 2
}
