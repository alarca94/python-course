{
 "cells": [
  {
   "cell_type": "markdown",
   "metadata": {},
   "source": [
    "# Python para Linguists\n",
    "\n",
    "Notebook 4: Strings, Listas, Diccionarios \n",
    "\n",
    "Alejandro Ariza\n",
    "\n",
    "Universitat de Barcelona 2020"
   ]
  },
  {
   "cell_type": "markdown",
   "metadata": {},
   "source": [
    "### Strings, Listas, Diccionarios\n",
    "\n",
    "En este notebook practicaremos con tres tipos de datos: strings, listas y diccionarios.\n",
    "También practicaremos más con bucles y estructuras de decisión.\n",
    "\n",
    "En este laboratorio, comenzaremos trabajando con diferentes textos y estadísticas básicas.\n",
    "\n"
   ]
  },
  {
   "cell_type": "code",
   "execution_count": null,
   "metadata": {},
   "outputs": [],
   "source": [
    "# Recuerda el tipo de dato string\n",
    "# Un string es una secuencia de caracteres\n",
    "string_1 = \"Esto es una variable de tipo string.\"\n",
    "\n",
    "# Podemos añadir caracteres nuevos a un string con el operador \"+\"\n",
    "string_1 += \" Ahora contiene dos frases.\"\n",
    "\n",
    "# Recordad que la abreviatura +=\n",
    "# string_1 += \" Ahora contiene dos frases.\" \n",
    "#    es lo mismo que:\n",
    "# string_1 = string_1 + \" Ahora contiene dos frases.\"\n",
    "\n",
    "\n",
    "print(string_1)\n",
    "\n"
   ]
  },
  {
   "cell_type": "code",
   "execution_count": null,
   "metadata": {},
   "outputs": [],
   "source": [
    "# Podemos acceder a parte de los strings al igual que la lista utilizando índices y segmentación\n",
    "\n",
    "# Recuerda que los índices en Python comienzan por 0\n",
    "# El carácter en la posición 0 es el primer carácter del string\n",
    "# El carácter en la posición 1 es el segundo carácter del string\n",
    "# La próxima sentencia imprime el SEGUNDO carácter del string_1\n",
    "print(string_1[1])"
   ]
  },
  {
   "cell_type": "code",
   "execution_count": null,
   "metadata": {},
   "outputs": [],
   "source": [
    "# Podemos segmentar un string indicando las posiciones de inicio y fin\n",
    "# LA siguiente sentencia imprime los caracteres del string desde la posición 0 hasta la 3 (sin incluir la 3)\n",
    "print(string_1[0:3])"
   ]
  },
  {
   "cell_type": "code",
   "execution_count": null,
   "metadata": {},
   "outputs": [],
   "source": [
    "# No se puede utilizar la indexación para cambiar parte de un string (similar al funcionamiento de las tuplas)\n",
    "# Prueba el siguiente código\n",
    "string_1[0] = \"D\"\n",
    "\n",
    "print(string_1)"
   ]
  },
  {
   "cell_type": "code",
   "execution_count": null,
   "metadata": {},
   "outputs": [],
   "source": [
    "# La variable lista es una secuencia de objetos\n",
    "# El funcionamiento es similar al de un string salvo porque puede contener elementos que no sean caracteres\n",
    "list_1 = [\"Esto\",\"es\",\"una\",\"frase\",\".\"]\n",
    "\n",
    "# Puedes concatenar listas usando el operador \"+\"\n",
    "\n",
    "list_1 += [1,\"otro string\"]\n",
    "\n",
    "print(list_1)"
   ]
  },
  {
   "cell_type": "code",
   "execution_count": null,
   "metadata": {},
   "outputs": [],
   "source": [
    "# ¿Qué hace el próximo código?\n",
    "# ¿Funcionará?\n",
    "# ¿Por qué?\n",
    "# ¿Os sorprende el resultado?\n",
    "\n",
    "list_1 += \"test\"\n",
    "\n",
    "print(list_1)"
   ]
  },
  {
   "cell_type": "code",
   "execution_count": null,
   "metadata": {},
   "outputs": [],
   "source": [
    "# ¿Qué hace el próximo código?\n",
    "# ¿Funcionará?\n",
    "# ¿Por qué?\n",
    "# ¿Os sorprende el resultado?\n",
    "\n",
    "list_1 += 1\n",
    "\n",
    "print(list_1)"
   ]
  },
  {
   "cell_type": "code",
   "execution_count": null,
   "metadata": {},
   "outputs": [],
   "source": [
    "# Si quieres añadir un único elemento a una lista (en vez de concatenar dos listas), debéis usar el método append()\n",
    "\n",
    "list_1.append(\"12\")\n",
    "list_1.append(3)\n",
    "\n",
    "print(list_1)"
   ]
  },
  {
   "cell_type": "code",
   "execution_count": null,
   "metadata": {},
   "outputs": [],
   "source": [
    "# La alternativa al operador \"+\", sería utilizar el método extend()\n",
    "list_1.extend([\"another\",\"list\",True])\n",
    "\n",
    "print(list_1)"
   ]
  },
  {
   "cell_type": "code",
   "execution_count": null,
   "metadata": {},
   "outputs": [],
   "source": [
    "# Podéis acceder a elementos de una lista mediante segmentación (al igual que hicimos con los strings)\n",
    "\n",
    "print(list_1[0])\n",
    "\n",
    "print(list_1[2:5])"
   ]
  },
  {
   "cell_type": "code",
   "execution_count": null,
   "metadata": {},
   "outputs": [],
   "source": [
    "# Podéis observar como todos los elementos de una lista mantienen su tipo de dato original (no son convertidos al\n",
    "# al mismo tipo)\n",
    "\n",
    "# Esto es un string \"12\"\n",
    "print(list_1[11])\n",
    "\n",
    "# Esto es un entero 3\n",
    "print(list_1[12])\n",
    "\n",
    "\n",
    "# \"Multiplicar\" un string y un número sirve para repetir el string X veces\n",
    "\n",
    "# Esto es un string \"1212\"\n",
    "print(list_1[11]*2)\n",
    "\n",
    "# Esto es un número 6\n",
    "print(list_1[12]*2)"
   ]
  },
  {
   "cell_type": "code",
   "execution_count": null,
   "metadata": {},
   "outputs": [],
   "source": [
    "# A diferencia de los strings, las listas sí que permiten cambiar sus elementos\n",
    "list_1[0] = \"Ojo!\"\n",
    "\n",
    "print(list_1)"
   ]
  },
  {
   "cell_type": "code",
   "execution_count": null,
   "metadata": {},
   "outputs": [],
   "source": [
    "# El metodo remove() permite borrar todas las entradas de una lista con un valor determinado (mayús/minusculas importan)\n",
    "list_2 = [\"Esto\",\"es\",\"otra\",\"lista\",\"esto\"]\n",
    "\n",
    "print(list_2)\n",
    "\n",
    "list_2.remove(\"esto\")\n",
    "\n",
    "print(list_2)\n",
    "\n",
    "list_2.remove(\"esto\")\n",
    "\n",
    "print(list_2)"
   ]
  },
  {
   "cell_type": "code",
   "execution_count": null,
   "metadata": {},
   "outputs": [],
   "source": [
    "# El método index() devuelve el índice del primer elemento en una lista con un valor determinado\n",
    "list_2 = [\"esto\",\"es\",\"otra\",\"lista\",\"esto\"]\n",
    "\n",
    "print(list_2.index(\"esto\"))"
   ]
  },
  {
   "cell_type": "code",
   "execution_count": null,
   "metadata": {},
   "outputs": [],
   "source": [
    "# El operador \"in\" comprueba si el valor se encuentra en una lista\n",
    "if \"es\" in list_2:\n",
    "    print(\"¡Encontrado!\")\n",
    "    \n",
    "if \"que\" in list_2:\n",
    "    print(\"¡Encontrado de nuevo!\")\n",
    "else:\n",
    "    print(\"¡No se ha encontrado!\")"
   ]
  },
  {
   "cell_type": "code",
   "execution_count": null,
   "metadata": {},
   "outputs": [],
   "source": [
    "# Un diccionario es un tipo de dato que tiene pares de clave-valor\n",
    "# De forma similar a las listas, los diccionarios pueden contener elementos de múltiples tipos\n",
    "dict_1 = {}\n",
    "\n",
    "dict_1[\"nombre\"] = \"Alejandro\"\n",
    "dict_1[\"grupo\"] = 2\n",
    "dict_1[\"aprobado\"] = True\n",
    "dict_1[\"nota\"] = 10\n",
    "\n",
    "print(dict_1)\n"
   ]
  },
  {
   "cell_type": "code",
   "execution_count": null,
   "metadata": {},
   "outputs": [],
   "source": [
    "# Puedes acceder a diferentes valores usando su clave\n",
    "print(dict_1[\"nombre\"])"
   ]
  },
  {
   "cell_type": "code",
   "execution_count": null,
   "metadata": {},
   "outputs": [],
   "source": [
    "# Si accedéis a una clave que no existe en el diccionario, salta una excepción\n",
    "print(dict_1[\"edad\"])"
   ]
  },
  {
   "cell_type": "code",
   "execution_count": null,
   "metadata": {},
   "outputs": [],
   "source": [
    "# Podéis cambiar los valores de un diccionario para una clave en concreto\n",
    "\n",
    "# El operador -= es una abreviatura que funciona de igual modo que +=\n",
    "dict_1[\"nota\"] -= 1\n",
    "\n",
    "print(dict_1[\"nota\"])"
   ]
  },
  {
   "cell_type": "markdown",
   "metadata": {},
   "source": [
    "Extraer estadísticas de la frecuencia de palabras en un texto.\n",
    "\n",
    "La tarea para esta clase sería comenzar a trabajar con algunos textos y extraer estadísticas a nivel de palabras.\n",
    "\n",
    "Recibirás un texto simple (10 frases)y tendrás 3 objetivos:\n",
    "\n",
    "1) Dividir las frases del texto (strings) en pseudo-tokens utilizando la función \"split\"\n",
    "2) Crear una lista que contenga todas las palabras del vocabulario\n",
    "3) Crear un diccionario con todos los pares palabra-frecuencia\n",
    "\n",
    "Si termináis rápido podréis encontrar unos pocos ejercicios más avanzados, pero es importante entender los 3 primeros."
   ]
  },
  {
   "cell_type": "code",
   "execution_count": null,
   "metadata": {},
   "outputs": [],
   "source": [
    "# Este es el texto inicial que utilizaréis para el análisis\n",
    "# Consiste en una lista de strings, donde cada string es una frase\n",
    "\n",
    "corpus_1 = []\n",
    "corpus_1.append(\"Desocupado lector: sin juramento me podrás creer que quisiera que este libro, como hijo del entendimiento, fuera el más hermoso, el más gallardo y más discreto que pudiera imaginarse.\")\n",
    "corpus_1.append(\"Pero no he podido yo contravenir al orden de naturaleza; que en ella cada cosa engendra su semejante.\")\n",
    "corpus_1.append(\"Y así, ¿qué podrá engendrar el estéril y mal cultivado ingenio mío, sino la historia de un hijo seco, avellanado, antojadizo y lleno de pensamientos varios y nunca imaginados de otro alguno, bien como quien se engendró en una cárcel, donde toda incomodidad tiene su asiento y donde todo triste ruido hace su habitación?\")\n",
    "corpus_1.append(\"El sosiego, el lugar apacible, la amenidad de los campos, la serenidad de los cielos, el murmurar de las fuentes, la quietud del espíritu son grande parte para que las musas más estériles se muestren fecundas y ofrezcan partos al mundo que le colmen de maravilla y de contento.\")\n",
    "corpus_1.append(\"Acontece tener un padre un hijo feo y sin gracia alguna, y el amor que le tiene le pone una venda en los ojos para que no vea sus faltas, antes las juzga por discreciones y lindezas y las cuenta a sus amigos por agudezas y donaires.\")\n",
    "corpus_1.append(\"Pero yo, que, aunque parezco padre, soy padrastro de Don Quijote, no quiero irme con la corriente del uso, ni suplicarte, casi con las lágrimas en los ojos, como otros hacen, lector carísimo, que perdones o disimules las faltas que en este mi hijo vieres; y ni eres su pariente ni su amigo, y tienes tu alma en tu cuerpo y tu libre albedrío como el más pintado, y estás en tu casa, donde eres señor della, como el rey de sus alcabalas, y sabes lo que comúnmente se dice: que debajo de mi manto, al rey mato.\")\n",
    "corpus_1.append(\"Todo lo cual te esenta y hace libre de todo respecto y obligación; y así, puedes decir de la historia todo aquello que te pareciere, sin temor que te calunien por el mal ni te premien por el bien que dijeres della.\")\n",
    "    \n",
    "\n",
    "print(corpus_1)"
   ]
  },
  {
   "cell_type": "code",
   "execution_count": null,
   "metadata": {},
   "outputs": [],
   "source": [
    "# Observad el funcionamiento del método split()\n",
    "string_2 = \"Un string con espacios separando las palabras.\"\n",
    "list_3 = string_2.split()\n",
    "print(list_3)"
   ]
  },
  {
   "cell_type": "code",
   "execution_count": null,
   "metadata": {},
   "outputs": [],
   "source": [
    "# Tarea 1: Segmentación por palabras\n",
    "# Leed cada frase del \"corpus\" y separad las palabras con el método split()\n",
    "# Podéis guardar el resultado en una única lista para todo el corpus o en una lista de listas (primer nivel - frases, segundo nivel - palabras)\n",
    "# Intentad ambas opciones\n",
    "\n"
   ]
  },
  {
   "cell_type": "code",
   "execution_count": null,
   "metadata": {},
   "outputs": [],
   "source": [
    "# Tarea 2\n",
    "# Cread una lista del vocabulario existente en el corpus\n",
    "# Recordad, el vocabulario debería contener todas las palabras sin repeticiones (una única vez cada una)"
   ]
  },
  {
   "cell_type": "code",
   "execution_count": null,
   "metadata": {},
   "outputs": [],
   "source": [
    "# Tarea 3:\n",
    "# Crad un diccionario con las frecuencias de todas las palabras en el corpus\n",
    "# El formato del diccionario debería ser el siguiente (palabra/clave, frecuencia/valor)\n",
    "# dict_2[palabra] = frecuencia\n",
    "\n",
    "\n",
    "    "
   ]
  },
  {
   "cell_type": "code",
   "execution_count": null,
   "metadata": {},
   "outputs": [],
   "source": [
    "# Podéis observar los resultados de la tarea 3 utilizando las siguientes predefinidas funciones\n",
    "\n",
    " \n",
    "\n",
    "# Functions that print and plot statisitics\n",
    "# Do not change those\n",
    "import collections\n",
    "import matplotlib.pyplot as plt\n",
    "def mostCommonWords(d):\n",
    "    c = collections.Counter(d)\n",
    "    most = c.most_common(10)\n",
    "    print('Rank\\t\\tPalabra\\t\\tFrecuencia')\n",
    "    print('----\\t\\t----\\t\\t---------')\n",
    "    for i,(w,f) in enumerate(most):\n",
    "        print(str(i+1)+ '\\t\\t' + w + '\\t\\t' + str(f))\n",
    "\n",
    "def plot(d):\n",
    "    c = collections.Counter(d)\n",
    "    most = c.most_common()\n",
    "    plt.plot([x[1] for x in most])\n",
    "    plt.grid()\n",
    "    plt.xlabel('Rank de la palabra')\n",
    "    plt.ylabel('Frecuencia')\n",
    "    \n",
    "    \n"
   ]
  },
  {
   "cell_type": "code",
   "execution_count": null,
   "metadata": {},
   "outputs": [],
   "source": [
    "# Ejemplo de diccionario de frecuencias\n",
    "# Cuando tu código esté listo, usa tu diccionario construido anteriormente\n",
    "\n",
    "import random\n",
    "ejemplo_dict = {}\n",
    "for cnt in range(50):\n",
    "    palabra_actual = \"palabra_\" + str(cnt)\n",
    "    ejemplo_dict[palabra_actual] = random.randint(1,100)\n",
    "    \n",
    "mostCommonWords(ejemplo_dict)\n",
    "\n",
    "plot(ejemplo_dict)"
   ]
  },
  {
   "cell_type": "code",
   "execution_count": null,
   "metadata": {},
   "outputs": [],
   "source": []
  },
  {
   "cell_type": "code",
   "execution_count": null,
   "metadata": {},
   "outputs": [],
   "source": []
  },
  {
   "cell_type": "code",
   "execution_count": null,
   "metadata": {},
   "outputs": [],
   "source": []
  },
  {
   "cell_type": "code",
   "execution_count": null,
   "metadata": {},
   "outputs": [],
   "source": []
  },
  {
   "cell_type": "code",
   "execution_count": null,
   "metadata": {},
   "outputs": [],
   "source": []
  }
 ],
 "metadata": {
  "kernelspec": {
   "display_name": "Python 3",
   "language": "python",
   "name": "python3"
  },
  "language_info": {
   "codemirror_mode": {
    "name": "ipython",
    "version": 3
   },
   "file_extension": ".py",
   "mimetype": "text/x-python",
   "name": "python",
   "nbconvert_exporter": "python",
   "pygments_lexer": "ipython3",
   "version": "3.8.5"
  }
 },
 "nbformat": 4,
 "nbformat_minor": 2
}
