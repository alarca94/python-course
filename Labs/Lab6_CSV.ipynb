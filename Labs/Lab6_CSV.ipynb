{
 "cells": [
  {
   "cell_type": "markdown",
   "metadata": {},
   "source": [
    "# Python para Lingüistas\n",
    "\n",
    "Notebook 6: Formato CSV\n",
    "\n",
    "Alejandro Ariza\n",
    "\n",
    "University of Barcelona 2022"
   ]
  },
  {
   "cell_type": "markdown",
   "metadata": {},
   "source": [
    "#### Formato CSV\n",
    "\n",
    "CSV es un formato especial de fichero (\"comma separated\") que se utiliza mucho en programación.\n",
    "\n",
    "Para procesar un fichero .csv necesitaréis importar la librería \"csv\"."
   ]
  },
  {
   "cell_type": "code",
   "execution_count": null,
   "metadata": {},
   "outputs": [],
   "source": [
    "import csv"
   ]
  },
  {
   "cell_type": "code",
   "execution_count": null,
   "metadata": {},
   "outputs": [],
   "source": [
    "# El siguiente código lee un fichero csv como un fichero normal\n",
    "file_name = \"movie_plots.csv\"\n",
    "num_lines = 0\n",
    "raw_corpus = []\n",
    "\n",
    "with open(file_name,\"r\",encoding=\"utf-8\") as inp:\n",
    "    for file_line in inp:\n",
    "        raw_corpus.append(file_line)\n",
    "        num_lines +=1\n",
    "        if num_lines >= 5:\n",
    "            break\n",
    "            \n",
    "# Como podéis ver, funciona aunque es difícil de leer\n",
    "# Podéis ver en la última línea que leer el csv como un fichero de texto divide la línea en dos.\n",
    "print(raw_corpus)\n",
    "print(\"\\n\")\n",
    "print(raw_corpus[3])\n",
    "print(raw_corpus[4])\n"
   ]
  },
  {
   "cell_type": "code",
   "execution_count": null,
   "metadata": {},
   "outputs": [],
   "source": [
    "# El siguiente código lee el fichero csv como una lista usando la librería csv\n",
    "file_name = \"movie_plots.csv\"\n",
    "num_lines = 0\n",
    "list_corpus = []\n",
    "\n",
    "with open(file_name,\"r\",encoding=\"utf-8\") as inp:\n",
    "    reader=csv.reader(inp)\n",
    "    for file_row in reader:\n",
    "        list_corpus.append(file_row)\n",
    "        num_lines +=1\n",
    "        if num_lines >= 5:\n",
    "            break\n",
    "            \n",
    "# Esta opción es mejor que la anterior - Es más fácil de leer y no divide las entradas/filas/líneas\n",
    "print(list_corpus)\n",
    "print(\"\\n\")\n",
    "print(list_corpus[3])\n",
    "print(list_corpus[4])"
   ]
  },
  {
   "cell_type": "code",
   "execution_count": null,
   "metadata": {},
   "outputs": [],
   "source": [
    "# El siguiente código lee el fichero csv en un diccionario\n",
    "file_name = \"movie_plots.csv\"\n",
    "num_lines = 0\n",
    "dict_corpus = []\n",
    "\n",
    "with open(file_name,\"r\",encoding=\"utf-8\") as inp:\n",
    "    dict_reader=csv.DictReader(inp)\n",
    "    for file_row in dict_reader:\n",
    "        dict_corpus.append(file_row)\n",
    "        num_lines +=1\n",
    "        if num_lines >= 5:\n",
    "            break\n",
    "            \n",
    "# Esta solución es mejor que la anterior puesto que ahora sabemos que significa cada campo\n",
    "print(dict_corpus)\n",
    "print(\"\\n\")\n",
    "print(dict_corpus[3])\n",
    "print(dict_corpus[4])\n",
    "\n",
    "\n",
    "# Podemos acceder a información específica de cada película\n",
    "print(\"\\n El título de la tercera entrada es:\")\n",
    "print(dict_corpus[2][\"Title\"])"
   ]
  },
  {
   "cell_type": "code",
   "execution_count": null,
   "metadata": {},
   "outputs": [],
   "source": [
    "# Tarea 1: manualmente crear un diccionario\n",
    "# \n",
    "# Esta tarea es para practicar vuestras habilidades de programación generales y vuestro conocimiento del formato csv\n",
    "# El objetivo es crear manualmente el diccionario que crea la librería csv utilizando un lector de fichero normal\n",
    "#\n",
    "# El csv.reader() lee el fichero línea por línea y devuelve una lista\n",
    "# Vuestra tarea es convertir esta lista en un diccionario\n",
    "# Primero, deberéis procesar la primera línea del fichero y obtener el nombre de todas las columnas/campos\n",
    "# Entonces, por cada línea del fichero, tendreís que leer los valores y asignarlos a los campos correctos del\n",
    "# diccionario"
   ]
  }
 ],
 "metadata": {
  "kernelspec": {
   "display_name": "Python 3",
   "language": "python",
   "name": "python3"
  },
  "language_info": {
   "codemirror_mode": {
    "name": "ipython",
    "version": 3
   },
   "file_extension": ".py",
   "mimetype": "text/x-python",
   "name": "python",
   "nbconvert_exporter": "python",
   "pygments_lexer": "ipython3",
   "version": "3.8.5"
  }
 },
 "nbformat": 4,
 "nbformat_minor": 2
}
