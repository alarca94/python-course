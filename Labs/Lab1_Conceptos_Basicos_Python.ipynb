{
 "cells": [
  {
   "cell_type": "markdown",
   "metadata": {},
   "source": [
    "# Python para Lingüistas\n",
    "\n",
    "Notebook 1: Conceptos Básicos de Python. Tipos de datos y variables.\n",
    "\n",
    "\n",
    "Alejandro Ariza\n",
    "\n",
    "University of Barcelona 2022"
   ]
  },
  {
   "cell_type": "markdown",
   "metadata": {},
   "source": [
    "Este es vuestro primer Jupyter notebook del curso en el que podréis experimentar con diferentes tipos de datos y variables.\n",
    "\n",
    "Los Jupyter notebooks incluyen dos tipos de celdas: celdas ``Markup`` (superset de HTML) donde se puede escribir texto como este, o celdas ``Code`` que se utilizan para escribir el código de vuestro programa.\n",
    "\n",
    "Las celdas de texto son informativas, pudiendo contener comentarios, figuras o referencias que guíen al lector por el código y los resultados.\n",
    "\n",
    "Las celdas de código se ejecutan presionando el botón ``play`` que podéis encontrar en el menú superior o presionando shift + enter"
   ]
  },
  {
   "cell_type": "code",
   "execution_count": null,
   "metadata": {},
   "outputs": [],
   "source": [
    "# Esta sería la primera celda de código del notebook, donde también podéis agregar comentarios\n",
    "\n",
    "# Para añadir comentarios en una celda de código necesitáis usar el símbolo \"#\"\n",
    "\n",
    "# Los comentarios no se ejecutan y permiten añadir descripciones cortas que ayuden a comprender las líneas de código\n",
    "# que le siguen\n",
    "\n",
    "                    # Los comentarios no tienen por qué empezar al principio de la línea"
   ]
  },
  {
   "cell_type": "markdown",
   "metadata": {},
   "source": [
    "Lo primero que veremos en este notebook será la función print(). \n",
    "\n",
    "print() se utiliza para imprimir por pantalla el valor actual de una variable.\n",
    "\n",
    "Todavía no hemos visto lo que son las funciones ni cómo funcionan, así que no entraremos en mucho detalle. Lo único que debéis conocer de la función print() es que viene incluida de forma nativa con Python y que funciona de la siguiente forma: recibe como entrada un único argumento y se encarga de imprimir por pantalla ese argumento. Esto te permite visualizar el contenido de una variable en un punto determinado de tu programa."
   ]
  },
  {
   "cell_type": "code",
   "execution_count": null,
   "metadata": {},
   "outputs": [],
   "source": [
    "# La siguiente línea imprime un mensaje ``Hello World``\n",
    "# Fijaos en que \"Hello World\" no se guarda en ninguna variable explícitamente. \n",
    "# Al no estar contenido en ninguna variable, \"Hello World\" será olvidado tan pronto como se visualize por pantalla.\n",
    "print(\"Hello World!\")\n",
    "\n",
    "# Imprimir un mensaje es útil en programas largos para ser conscientes de qué se está ejecutando en cada momento:\n",
    "print(\"Iniciando procesado de texto!\")"
   ]
  },
  {
   "cell_type": "markdown",
   "metadata": {},
   "source": [
    "### Variables\n",
    "\n",
    "Las variables son una forma de guardar la información que va a ser utilizada más adelante. \n",
    "\n",
    "Las variables son los contenedores que van a guardar esta información de forma que tendrán un nombre (nos permitirá identificar ese contenedor) y un valor (la información que queramos guardar para usarla en un futuro dentro del programa).\n",
    "\n",
    "Os podéis imaginar las variables como recipientes en la cocina:\n",
    "   - cada recipiente tiene una etiqueta (azúzar, sal, pimienta, etc) que permite identificar el contenido - la etiqueta sería el ``nombre`` de la variable\n",
    "   - cada recipiente tiene un espacio para el contenido - algunos simplemente están varíos, otros contienen azúcar, sal, pimienta, etc - el contenido del recipiente es el ``valor`` de la variable\n",
    "\n",
    "La etiqueta del recipiente no tiene por qué identificar el contenido del mismo - podemos poner sal en el recipiente con etiqueta azúcar.\n",
    "Sin embargo, es recomendable que la etiqueta sea lo suficiente descriptiva del contenido que va a haber en el recipiente."
   ]
  },
  {
   "cell_type": "code",
   "execution_count": null,
   "metadata": {},
   "outputs": [],
   "source": [
    "# El contenido de una variable se asigna con el signo \"=\". Esta operación se llama asignación.\n",
    "# El nombre de la variable siempre debe aparecer a la izquierda del signo y el valor a la derecha\n",
    "# La siguiente línea crea una variable con el identificador/nombre \"mi_texto\" que guardará el string \"Hello World!\"\n",
    "my_text = \"Hello World!\"\n",
    "\n",
    "# Si utilizamos la función print() introduciendo el identificador de la variable, podremos visualizar su contenido:\n",
    "print(my_text)"
   ]
  },
  {
   "cell_type": "markdown",
   "metadata": {},
   "source": [
    "¿Por qué se necesitan variables?\n",
    "\n",
    "Las variables le permiten al programa \"recordar\" información para poder usarla de nuevo más adelante. \n",
    "\n",
    "Dos ejemplos de uso simples serían: re-usar una variable y estar continuamente modificando una variable."
   ]
  },
  {
   "cell_type": "code",
   "execution_count": null,
   "metadata": {},
   "outputs": [],
   "source": [
    "# Re-usando variables\n",
    "\n",
    "# Imaginad que queréis procesar un texto muy largo.\n",
    "# Hasta la fecha solo conocemos la función print(), pero dentro de poco veremos más funciones:\n",
    "mi_texto_largo = \"Esto es una frase mucho más larga que el nombre que le damos a la variable.\"\n",
    "\n",
    "\n",
    "\n",
    "# Si queréis visualizar más adelante lo que contenía la variable \"mi_texto_largo\", sólo debéis imprimirla\n",
    "print(mi_texto_largo)\n"
   ]
  },
  {
   "cell_type": "code",
   "execution_count": null,
   "metadata": {},
   "outputs": [],
   "source": [
    "# Si queréis imprimirla de nuevo, podéis hacerlo sin tener que reescribir el texto largo del principio de nuevo\n",
    "print(mi_texto_largo)"
   ]
  },
  {
   "cell_type": "code",
   "execution_count": null,
   "metadata": {},
   "outputs": [],
   "source": [
    "# La alternativa sería escribir el texto largo en todas las partes del código que tengáis que utilizarlo:\n",
    "print(\"This is a sentence which is much longer than the name of the corresponding variable.\")"
   ]
  },
  {
   "cell_type": "markdown",
   "metadata": {},
   "source": [
    "Ahora imaginad que en vez de tener una frase, tenéis un párrafo, documento o libro entero.\n",
    "\n",
    "Es mucho más util asignar ese texto a una variable con un nombre descriptivo para, más adelante, hacer referencia a ese texto utilizando el nombre de la variable.\n",
    "\n",
    "Como humanos, también utilizamos nombres cortos para hacer referencia a textos más largos (e.g. nombre de un libro)."
   ]
  },
  {
   "cell_type": "code",
   "execution_count": null,
   "metadata": {},
   "outputs": [],
   "source": [
    "# Modificar una variable continuamente\n",
    "\n",
    "# Volvamos al ejemplo del pastel de las diapositivas\n",
    "# Inicializaremos nuestra variable \"pastel\" donde queremos guardar todos los ingredientes\n",
    "\n",
    "# Al principio del programa nuestra variable \"pastel\" está vacía:\n",
    "pastel = \"\"\n",
    "print(pastel)\n"
   ]
  },
  {
   "cell_type": "code",
   "execution_count": null,
   "metadata": {},
   "outputs": [],
   "source": [
    "# Añadimos harina\n",
    "pastel = pastel + \"harina\"\n",
    "print(pastel)"
   ]
  },
  {
   "cell_type": "code",
   "execution_count": null,
   "metadata": {},
   "outputs": [],
   "source": [
    "# Añadimos azúcar\n",
    "pastel = pastel + \", azúcar\"\n",
    "print(pastel)"
   ]
  },
  {
   "cell_type": "code",
   "execution_count": null,
   "metadata": {},
   "outputs": [],
   "source": [
    "# Añadimos huevos\n",
    "pastel = pastel + \", huevos\"\n",
    "print(pastel)\n",
    "\n",
    "# Como podéis ver, conforme añadimos ingredientes, el contenido de nuestra variable va cambiando. \n",
    "# Usar una variable es la mejor manera de estar al tanto del estado actual del pastel.\n",
    "# Los programas informáticos pueden complicarse mucho, llegando a ser muy difícil y poco práctico recordar todo.\n",
    "# Para ello, existen las variables."
   ]
  },
  {
   "cell_type": "markdown",
   "metadata": {},
   "source": [
    "### Tipos de datos\n",
    "\n",
    "En la sesión teórica, aprendimos diferentes tipos de datos: numericos, booleanos, strings, listas\n",
    "\n",
    "En esta parte de la práctica, veremos las diferencias entre diferentes tipos de datos y exploraremos algunas operaciónes básicas que les podemos aplicar."
   ]
  },
  {
   "cell_type": "markdown",
   "metadata": {},
   "source": [
    "#### Tipos de datos numéricos\n",
    "\n",
    "Hemos mencionado dos tipos de datos numéricos - integer y float.\n",
    "\n",
    "Además, introdujimos varias operaciones válidas con estos tipos de datos:\n",
    "\n",
    "* Suma \t        ( + ) : \t2 + 3 = 5\n",
    "* Resta \t    ( – ) :\t3 – 2 = 1\n",
    "* Multiplicación \t( * ) :\t2 * 3 = 3 * 2 = 6\n",
    "* División \t        ( / ) : \t5 / 2 = 2.5\n",
    "* División (entera)\t( // ) :\t5 // 2 = 2\n",
    "* Potencia\t\t( ** ) :\t5 ** 2 = 25\n",
    "\n",
    "Podéis experimentar con estos tipos de datos y las diferentes operaciones en la siguiente celda.\n",
    "\n",
    "Guardad los resultados asignándolos a variables y visualizad el resultado usando la función print()."
   ]
  },
  {
   "cell_type": "code",
   "execution_count": null,
   "metadata": {},
   "outputs": [],
   "source": [
    "# Este es un ejemplo en el que sumamos números enteros y flotantes\n",
    "result = 2 + 3\n",
    "print(result)\n",
    "result_fl = 2.5 + 3.1\n",
    "print(result_fl)\n"
   ]
  },
  {
   "cell_type": "code",
   "execution_count": null,
   "metadata": {},
   "outputs": [],
   "source": [
    "# Aquí podéis experimentar con otras operaciones - resta, multiplicación, división, potencias\n",
    "# Comparad los resultados usando enteros y flotantes"
   ]
  },
  {
   "cell_type": "markdown",
   "metadata": {},
   "source": [
    "#### Tipo de datos String\n",
    "\n",
    "Los strings son una secuencia de caracteres, delimitados por comillas (tanto simples como dobles)\n",
    "\n",
    "Podéis concatenar strings usando el signo \"+\".\n",
    "Podéis acceder a un carácter específico en el string usando corchetes y especificando la posición numérica del carácter (a esta posición se la denomina índice y comienza a contar desde la posición 0).\n",
    "También, se puede segmentar un string introduciendo entre corchetes tanto la posición inicial como final.\n",
    "\n",
    "La función len() permite medir la longitud del string o lista que recibe como entrada.\n",
    "\n",
    "Podéis experimentar con strings en la próxima celda. ¿Qué otras funcionas creéis que pueden ser útiles para trabajar con strings?"
   ]
  },
  {
   "cell_type": "code",
   "execution_count": null,
   "metadata": {},
   "outputs": [],
   "source": [
    "# Concatenar strings\n",
    "texto_1 = \"some\"\n",
    "texto_2 = \"word\"\n",
    "texto = texto_1 + \" \" + texto_2\n",
    "print(texto)\n"
   ]
  },
  {
   "cell_type": "code",
   "execution_count": null,
   "metadata": {},
   "outputs": [],
   "source": [
    "# Accediendo a un carácter usando el índice en el que se encuentra\n",
    "# 0, 1, 2, 3 -> 3 is the 4th character\n",
    "caracter_4 = texto[3]\n",
    "print(\"El cuarto carácter en '\" + text + \"' es\")\n",
    "print(caracter_4)"
   ]
  },
  {
   "cell_type": "code",
   "execution_count": null,
   "metadata": {},
   "outputs": [],
   "source": [
    "# Segmentando una parte del string\n",
    "# El carácter en la posición final no se incluye - 0:4 devolverá 0,1,2,3\n",
    "palabra_1 = texto[0:4] \n",
    "print(palabra_1)"
   ]
  },
  {
   "cell_type": "code",
   "execution_count": null,
   "metadata": {},
   "outputs": [],
   "source": [
    "# Función nativa en Python para medir la longitud de un string\n",
    "# La función len() la podemos ver de una forma similar a print() - recibe un argumento y hace algo con él.\n",
    "# Cuando la función len() se aplica a strings, ésta cuenta el número de caracteres que tiene la cadena.\n",
    "print(len(texto))\n",
    "print(len(caracter_4))\n",
    "print(len(palabra_1))"
   ]
  },
  {
   "cell_type": "code",
   "execution_count": null,
   "metadata": {},
   "outputs": [],
   "source": [
    "# Diferencias entre enteros y strings\n",
    "string_4 = \"4\"\n",
    "int_4 = 4\n",
    "\n",
    "# ¿Podéis adivinar que pasa en las siguientes sentencias?\n",
    "string_add = string_4 + string_4\n",
    "int_add = int_4 + int_4"
   ]
  },
  {
   "cell_type": "code",
   "execution_count": null,
   "metadata": {},
   "outputs": [],
   "source": [
    "# Convertir de un tipo de datos a otro es posible en algunas situaciones\n",
    "conv_int_4 = str(int_4)\n",
    "print(conv_int_4 + conv_int_4)"
   ]
  },
  {
   "cell_type": "markdown",
   "metadata": {},
   "source": [
    "#### Tipo de datos Lista\n",
    "\n",
    "Una lista es una colección de otros tipos de datos delimitados por corchetes [] y separados por una coma:\n",
    "\n",
    "* Una lista de enteros: [1, 2, 3, 4, 5]\n",
    "* Una lista de strings: [“algunas”, “palabras”, “en”, “una”, “lista”]\n",
    "* Una lista de enteros Y strings: [6, “palabras”, “y”, 2, “numeros”, “en”, “una”, “lista”]\n",
    "\n",
    "Las listas puede concatenarse y segmentarse al igual que los strings. Al fin y al cabo, ambos tipos de datos son cadenas de elementos. También se puede aplicar la función len() a listas.\n",
    "\n",
    "¿Por qué necesitamos las listas? Las listas nos permiten representar y agrupar múltiples elementos\n",
    "\n",
    "Por ejemplo, podéis apreciar la diferencia entre el siguiente string y lista:\n",
    "\n",
    "\"Esto es una frase conteniendo varias palabras.\"\n",
    "[\"Esto\", \"es\", \"una\", \"frase\", \"conteniendo\", \"varias\", \"palabras\", \".\"]\n",
    "\n",
    "El contenido de texto es el mismo en ambas. \n",
    "Sin embargo, un string es una secuencia de caracteres, sin ninguna estructura y cuya cadena únicamente puede contener caracteres.\n",
    "Una lista, en este ejemplo, es una secuencia de strings. Cada elemento de la lista corresponde a una palabra.\n",
    "Desde un punto de vista lingüístico, es más fácil trabajar con palabras que con caracteres.\n",
    "\n",
    "Podéis experimentar con listas en la próxima celda."
   ]
  },
  {
   "cell_type": "code",
   "execution_count": null,
   "metadata": {},
   "outputs": [],
   "source": [
    "# Inicializar una lista\n",
    "int_list = [1,2,3,4,5]\n",
    "int_list_2 = [6,7,8]\n",
    "\n",
    "# Concatenación de listas\n",
    "int_list_3 = int_list + int_list_2\n",
    "print(int_list_3)\n",
    "\n",
    "# Podéis experimentar accediendo a un elemento particular de la lista o segmentándo una porción de la misma.\n",
    "# La idea es la misma que anteriormente hicimos con strings"
   ]
  },
  {
   "cell_type": "markdown",
   "metadata": {},
   "source": [
    "### Computación = Datos + Algoritmos\n",
    "\n",
    "A continuación, veréis un ejemplo de procesado automático de texto usando la librería NLTK. No os preocupéis si no entendéis todo el código, esto es solo un adelanto de lo que veremos más adelante en el curso. Por suerte, los nombres de las funciones que han elegido los creadores de la librería son bastante descriptivos. Así que aunque no entendáis la lógica que hay detrás de la función, es posible que comprendáis lo que recibe y lo que devuelve. En las próximas clases aprenderemos más acerca de funciones, librerías, manipulación de textos y, al final del curso, conoceréis más conceptos sobre cómo funcionan estos programas.\n",
    "\n",
    "En este ejemplo, comenzaremos con una frase guardada en una variable de tipo string. La frase será tokenizada por la función de la librería de forma automática y ésta nos devolverá una lista de palabras. Entonces, apliccaremos Part-Of-Speech Tagging a la versión tokenizada de la frase.\n",
    "\n",
    "Recordad: computión = datos + algoritmos\n",
    "\n",
    "¿Qué son los datos y qué son los algoritmos en estos ejemplos?\n",
    "\n",
    "Siéntete libre de experimentar con el código si te apetece.\n"
   ]
  },
  {
   "cell_type": "code",
   "execution_count": null,
   "metadata": {},
   "outputs": [],
   "source": [
    "# Importar/Cargar la librería nltk\n",
    "import nltk\n",
    "\n",
    "# Definir la frase\n",
    "frase_ejemplo = \"The quick brown fox jumped over the lazy dog.\"\n",
    "print(frase_ejemplo)\n"
   ]
  },
  {
   "cell_type": "code",
   "execution_count": null,
   "metadata": {},
   "outputs": [],
   "source": [
    "# Tokenizar la frase\n",
    "frase_tok = nltk.word_tokenize(frase_ejemplo)\n",
    "print(frase_tok)"
   ]
  },
  {
   "cell_type": "code",
   "execution_count": null,
   "metadata": {},
   "outputs": [],
   "source": [
    "# Añadir etiquetas POS a la frase\n",
    "frase_pos = nltk.pos_tag(frase_tok)\n",
    "print(frase_pos)"
   ]
  },
  {
   "cell_type": "code",
   "execution_count": null,
   "metadata": {},
   "outputs": [],
   "source": []
  }
 ],
 "metadata": {
  "kernelspec": {
   "display_name": "Python 3",
   "language": "python",
   "name": "python3"
  },
  "language_info": {
   "codemirror_mode": {
    "name": "ipython",
    "version": 3
   },
   "file_extension": ".py",
   "mimetype": "text/x-python",
   "name": "python",
   "nbconvert_exporter": "python",
   "pygments_lexer": "ipython3",
   "version": "3.8.5"
  }
 },
 "nbformat": 4,
 "nbformat_minor": 2
}
