{
 "cells": [
  {
   "cell_type": "markdown",
   "metadata": {},
   "source": [
    "# Python para Lingüistas\n",
    "\n",
    "Notebook 9: Chunking y Parsing\n",
    "\n",
    "Alejandro Ariza\n",
    "\n",
    "Universitat de Barcelona 2022"
   ]
  },
  {
   "cell_type": "markdown",
   "metadata": {},
   "source": [
    "En este notebook, veremos como hacer procesamiento sintáctico usando NLTK.\n",
    "\n",
    "En concreto, veremos 2 formas diferentes - chunking y análisis sintáctico completo."
   ]
  },
  {
   "cell_type": "code",
   "execution_count": 1,
   "metadata": {},
   "outputs": [],
   "source": [
    "# Importar nltk\n",
    "import nltk"
   ]
  },
  {
   "cell_type": "code",
   "execution_count": 2,
   "metadata": {},
   "outputs": [
    {
     "name": "stderr",
     "output_type": "stream",
     "text": [
      "[nltk_data] Downloading package conll2000 to\n",
      "[nltk_data]     C:\\Users\\Venelin\\AppData\\Roaming\\nltk_data...\n",
      "[nltk_data]   Package conll2000 is already up-to-date!\n"
     ]
    },
    {
     "data": {
      "text/plain": [
       "True"
      ]
     },
     "execution_count": 2,
     "metadata": {},
     "output_type": "execute_result"
    }
   ],
   "source": [
    "# Descargar los paquetes importantes para hoy (si no los tenéis ya descargados)\n",
    "nltk.download(\"conll2000\")"
   ]
  },
  {
   "cell_type": "code",
   "execution_count": 3,
   "metadata": {},
   "outputs": [],
   "source": [
    "# Importar corpus para chunking\n",
    "from nltk.corpus import conll2000\n",
    "\n"
   ]
  },
  {
   "cell_type": "markdown",
   "metadata": {},
   "source": [
    "(Por qué) Estructura del texto:\n",
    "\n",
    "- “El significado de una expresión compleja está determinado por el significado de sus expresiones constituyentes y **las reglas usadas para combinarlas**”\n",
    "    - Estructura formal, no semántica\n",
    "- “A dog bites a man” vs “A man bites a dog” – en un bag-of-words, ambos textos reciben la misma representación\n",
    "- Elementos composicionales y no composicionales: “A dog bites John Smith”\n",
    "\n",
    "Análisis sintáctico y generación:\n",
    "- “A Dog bites a man” -> quién hizo a quién el qué (¿está bien construida la frase incluso?)\n",
    "- “Dog”, “bite”, “man” -> ¿Qué tipo de frases pueden ser construidas con estas palabras?"
   ]
  },
  {
   "cell_type": "markdown",
   "metadata": {},
   "source": [
    "Shallow parsing (chunking):\n",
    "- Estructura lineal I-O-B. \n",
    "- Sin jerarquía. Sin dependencias complejas distantes.\n",
    "- Identificar constituyentes.\n",
    "- Más efectivo computacionalmente y con mayor precisión.\n",
    "- Se puede usar un método clásico (HMM)"
   ]
  },
  {
   "cell_type": "code",
   "execution_count": 4,
   "metadata": {},
   "outputs": [
    {
     "name": "stdout",
     "output_type": "stream",
     "text": [
      "Chunked sentence: (S\n",
      "  (PP Over/IN)\n",
      "  (NP a/DT cup/NN)\n",
      "  (PP of/IN)\n",
      "  (NP coffee/NN)\n",
      "  ,/,\n",
      "  (NP Mr./NNP Stone/NNP)\n",
      "  (VP told/VBD)\n",
      "  (NP his/PRP$ story/NN)\n",
      "  ./.)\n",
      "Chunked sentence in I-O-B format: [('Over', 'IN', 'B-PP'), ('a', 'DT', 'B-NP'), ('cup', 'NN', 'I-NP'), ('of', 'IN', 'B-PP'), ('coffee', 'NN', 'B-NP'), (',', ',', 'O'), ('Mr.', 'NNP', 'B-NP'), ('Stone', 'NNP', 'I-NP'), ('told', 'VBD', 'B-VP'), ('his', 'PRP$', 'B-NP'), ('story', 'NN', 'I-NP'), ('.', '.', 'O')]\n"
     ]
    }
   ],
   "source": [
    "# Separa el corpus conll en test y train\n",
    "test_sents = conll2000.chunked_sents('test.txt')\n",
    "train_sents = conll2000.chunked_sents('train.txt')\n",
    "\n",
    "# Mira el formato del corpus anotado\n",
    "# Imprime el formato original\n",
    "print(\"Chunked sentence: {}\".format(train_sents[99]))\n",
    "# Imprime el formato I-O-B\n",
    "print(\"Chunked sentence in I-O-B format: {}\".format(nltk.chunk.tree2conlltags(train_sents[99])))\n",
    "# Dibuja un árbol\n",
    "# El árbol aparecerá en una ventana separada\n",
    "train_sents[99].draw()"
   ]
  },
  {
   "cell_type": "markdown",
   "metadata": {},
   "source": [
    "Análisis sintáctico completo:\n",
    "- Asigna una estructura (jerárquica binaria) para una frase, dada una gramática\n",
    "- Input: Gramática (pre-definida), frase\n",
    "- Output: todos los árboles posibles (si existen)\n",
    "\n",
    "Ambigüedad sintáctica (múltiples posibilidades para la misma frase)\n",
    "- Desambiguación mediante modelos probabilísticos\n",
    "- Desambiguación basada en reglas (heurística)\n",
    "- Uso de recursos externos (tales como diccionarios, bases de datos, y corpus anotados)\n",
    "\n",
    "Gramática Libre de Contexto:\n",
    "- conjuntos de reglas que expresan las posibles formas de combinar y ordenar símbolos correspondientes a un lenguaje\n",
    "- Un léxico de palabras y símbolos\n",
    "\n",
    "\n",
    "- nodos terminales – el léxico del lenguaje (palabras)\n",
    "- nodos no terminales – generalización de nodos (clases, tales como POS)\n",
    "- nodo raíz (S)\n",
    "- derivación – una secuencia de reglas de expansión (izquierda a derecha)"
   ]
  },
  {
   "cell_type": "code",
   "execution_count": 5,
   "metadata": {},
   "outputs": [
    {
     "name": "stdout",
     "output_type": "stream",
     "text": [
      "(S (NP Mary) (VP (V saw) (NP Bob)))\n"
     ]
    }
   ],
   "source": [
    "# Un CFG simple\n",
    "grammar1 = nltk.CFG.fromstring(\"\"\"\n",
    "  S -> NP VP\n",
    "  VP -> V NP | V NP PP\n",
    "  PP -> P NP\n",
    "  V -> \"saw\" | \"ate\" | \"walked\"\n",
    "  NP -> \"John\" | \"Mary\" | \"Bob\" | Det N | Det N PP\n",
    "  Det -> \"a\" | \"an\" | \"the\" | \"my\"\n",
    "  N -> \"man\" | \"dog\" | \"cat\" | \"telescope\" | \"park\"\n",
    "  P -> \"in\" | \"on\" | \"by\" | \"with\"\n",
    "  \"\"\")\n",
    "\n",
    "# Frase de test\n",
    "sent = \"Mary saw Bob\".split()\n",
    "\n",
    "# Analiza la frase utilizando la gramática\n",
    "rd_parser = nltk.RecursiveDescentParser(grammar1)\n",
    "\n",
    "# Imprime todos los árboles válidos\n",
    "for tree in rd_parser.parse(sent):\n",
    "    print(tree)\n",
    "\n",
    "# Dibuja todos los árboles\n",
    "for tree in rd_parser.parse(sent):\n",
    "    tree.draw()"
   ]
  },
  {
   "cell_type": "code",
   "execution_count": null,
   "metadata": {},
   "outputs": [],
   "source": [
    "# Observa el funcionamiento de múltiples algoritmos de análisis sintáctico\n",
    "\n",
    "# Analizador Top-down\n",
    "# - Comienza por “S”\n",
    "# - Genera un árbol\n",
    "# - Mapea el árbol a los nodos terminales\n",
    "\n",
    "nltk.app.rdparser()"
   ]
  },
  {
   "cell_type": "code",
   "execution_count": null,
   "metadata": {},
   "outputs": [],
   "source": [
    "# Analizador Bottom-up\n",
    "# - Comienza desde los nodos terminales\n",
    "# - Los agrupa por frases\n",
    "# - Intenta construir el árbol hasta encontrar la raíz S.\n",
    "nltk.app.srparser()"
   ]
  },
  {
   "cell_type": "code",
   "execution_count": null,
   "metadata": {},
   "outputs": [],
   "source": [
    "# Tarea 1\n",
    "# Usa grammar1 para analizar cada frase del siguiente corpus:\n",
    "\n",
    "corpus = [['a', 'young', 'woman', 'walks', 'in', 'the', 'park'], \n",
    "['two', 'young', 'men', 'smile'], \n",
    "['a', 'young', 'woman', 'sees', 'two', 'men'], \n",
    "['sees', 'two', 'men', 'a', 'young', 'woman'], \n",
    "['a', 'young', 'woman', 'sees', 'two', 'old', 'men', 'in', 'the', 'park', 'with', 'a', 'telescope'], \n",
    "['a', 'young', 'woman', 'two', 'old', 'men', 'in', 'the', 'park', 'with', 'a', 'telescope', 'sees'], \n",
    "['two', 'angry', 'men', 'chase', 'a', 'woman', 'with', 'a', 'telescope'], \n",
    "['a', 'woman', 'I', 'know', 'owns', 'a', 'telescope'], \n",
    "['a', 'woman', 'I', 'know', 'a', 'telescope']]"
   ]
  },
  {
   "cell_type": "code",
   "execution_count": null,
   "metadata": {},
   "outputs": [],
   "source": [
    "# Tarea 2\n",
    "# Expande grammar1 con reglas adicionales, de forma que podáis ver múltiples árboles para cada palabra\n",
    "# Deberíais obtener el siguiente número de soluciones para las frases del corpus:\n",
    "# “a young woman walks in the park” <- 1 solución\n",
    "# “two young men smile” <- 1 solución\n",
    "# “a young woman sees two men” <- 1 solución\n",
    "# “sees two men a young woman” <- 0 soluciones\n",
    "# “a young woman sees two old men in the park with a telescope” <- al menos 3 soluciones\n",
    "# “a young woman two old men in the park with a telescope sees” <- 0 soluciones\n",
    "# “two angry men chase a woman with a telescope” <- 2 soluciones\n",
    "# “a woman I know owns a telescope” <- 1 solución\n",
    "# “a woman I know a telescope” <- 0 soluciones"
   ]
  }
 ],
 "metadata": {
  "kernelspec": {
   "display_name": "Python 3",
   "language": "python",
   "name": "python3"
  },
  "language_info": {
   "codemirror_mode": {
    "name": "ipython",
    "version": 3
   },
   "file_extension": ".py",
   "mimetype": "text/x-python",
   "name": "python",
   "nbconvert_exporter": "python",
   "pygments_lexer": "ipython3",
   "version": "3.8.5"
  }
 },
 "nbformat": 4,
 "nbformat_minor": 2
}
