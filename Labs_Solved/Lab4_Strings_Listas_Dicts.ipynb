{
 "cells": [
  {
   "cell_type": "markdown",
   "metadata": {},
   "source": [
    "# Python para Lingüistas\n",
    "\n",
    "Notebook 4: Strings, Listas, Diccionarios \n",
    "\n",
    "Alejandro Ariza\n",
    "\n",
    "Universitat de Barcelona 2022"
   ]
  },
  {
   "cell_type": "markdown",
   "metadata": {},
   "source": [
    "### Strings, Listas, Diccionarios\n",
    "\n",
    "En este notebook practicaremos con tres tipos de datos: strings, listas y diccionarios.\n",
    "También practicaremos más con bucles y estructuras de decisión.\n",
    "\n",
    "En este laboratorio, comenzaremos trabajando con diferentes textos y estadísticas básicas.\n",
    "\n"
   ]
  },
  {
   "cell_type": "code",
   "execution_count": 1,
   "metadata": {},
   "outputs": [
    {
     "name": "stdout",
     "output_type": "stream",
     "text": [
      "Esto es una variable de tipo string. Ahora contiene dos frases.\n"
     ]
    }
   ],
   "source": [
    "# Recuerda el tipo de dato string\n",
    "# Un string es una secuencia de caracteres\n",
    "string_1 = \"Esto es una variable de tipo string.\"\n",
    "\n",
    "# Podemos añadir caracteres nuevos a un string con el operador \"+\"\n",
    "string_1 += \" Ahora contiene dos frases.\"\n",
    "\n",
    "# Recordad que la abreviatura +=\n",
    "# string_1 += \" Ahora contiene dos frases.\" \n",
    "#    es lo mismo que:\n",
    "# string_1 = string_1 + \" Ahora contiene dos frases.\"\n",
    "\n",
    "\n",
    "print(string_1)\n",
    "\n"
   ]
  },
  {
   "cell_type": "code",
   "execution_count": 2,
   "metadata": {},
   "outputs": [
    {
     "name": "stdout",
     "output_type": "stream",
     "text": [
      "s\n"
     ]
    }
   ],
   "source": [
    "# Podemos acceder a parte de los strings al igual que la lista utilizando índices y segmentación\n",
    "\n",
    "# Recuerda que los índices en Python comienzan por 0\n",
    "# El carácter en la posición 0 es el primer carácter del string\n",
    "# El carácter en la posición 1 es el segundo carácter del string\n",
    "# La próxima sentencia imprime el SEGUNDO carácter del string_1\n",
    "print(string_1[1])"
   ]
  },
  {
   "cell_type": "code",
   "execution_count": 3,
   "metadata": {},
   "outputs": [
    {
     "name": "stdout",
     "output_type": "stream",
     "text": [
      "Est\n"
     ]
    }
   ],
   "source": [
    "# Podemos segmentar un string indicando las posiciones de inicio y fin\n",
    "# LA siguiente sentencia imprime los caracteres del string desde la posición 0 hasta la 3 (sin incluir la 3)\n",
    "print(string_1[0:3])"
   ]
  },
  {
   "cell_type": "code",
   "execution_count": 4,
   "metadata": {},
   "outputs": [
    {
     "ename": "TypeError",
     "evalue": "'str' object does not support item assignment",
     "output_type": "error",
     "traceback": [
      "\u001b[0;31m---------------------------------------------------------------------------\u001b[0m",
      "\u001b[0;31mTypeError\u001b[0m                                 Traceback (most recent call last)",
      "\u001b[0;32m<ipython-input-4-b6ec0e6156b2>\u001b[0m in \u001b[0;36m<module>\u001b[0;34m\u001b[0m\n\u001b[1;32m      1\u001b[0m \u001b[0;31m# No se puede utilizar la indexación para cambiar parte de un string (similar al funcionamiento de las tuplas)\u001b[0m\u001b[0;34m\u001b[0m\u001b[0;34m\u001b[0m\u001b[0;34m\u001b[0m\u001b[0m\n\u001b[1;32m      2\u001b[0m \u001b[0;31m# Prueba el siguiente código\u001b[0m\u001b[0;34m\u001b[0m\u001b[0;34m\u001b[0m\u001b[0;34m\u001b[0m\u001b[0m\n\u001b[0;32m----> 3\u001b[0;31m \u001b[0mstring_1\u001b[0m\u001b[0;34m[\u001b[0m\u001b[0;36m0\u001b[0m\u001b[0;34m]\u001b[0m \u001b[0;34m=\u001b[0m \u001b[0;34m\"D\"\u001b[0m\u001b[0;34m\u001b[0m\u001b[0;34m\u001b[0m\u001b[0m\n\u001b[0m\u001b[1;32m      4\u001b[0m \u001b[0;34m\u001b[0m\u001b[0m\n\u001b[1;32m      5\u001b[0m \u001b[0mprint\u001b[0m\u001b[0;34m(\u001b[0m\u001b[0mstring_1\u001b[0m\u001b[0;34m)\u001b[0m\u001b[0;34m\u001b[0m\u001b[0;34m\u001b[0m\u001b[0m\n",
      "\u001b[0;31mTypeError\u001b[0m: 'str' object does not support item assignment"
     ]
    }
   ],
   "source": [
    "# No se puede utilizar la indexación para cambiar parte de un string (similar al funcionamiento de las tuplas)\n",
    "# Prueba el siguiente código\n",
    "string_1[0] = \"D\"\n",
    "\n",
    "print(string_1)"
   ]
  },
  {
   "cell_type": "code",
   "execution_count": 5,
   "metadata": {},
   "outputs": [
    {
     "name": "stdout",
     "output_type": "stream",
     "text": [
      "['Esto', 'es', 'una', 'frase', '.', 1, 'otro string']\n"
     ]
    }
   ],
   "source": [
    "# La variable lista es una secuencia de objetos\n",
    "# El funcionamiento es similar al de un string salvo porque puede contener elementos que no sean caracteres\n",
    "list_1 = [\"Esto\",\"es\",\"una\",\"frase\",\".\"]\n",
    "\n",
    "# Puedes concatenar listas usando el operador \"+\"\n",
    "\n",
    "list_1 += [1,\"otro string\"]\n",
    "\n",
    "print(list_1)"
   ]
  },
  {
   "cell_type": "code",
   "execution_count": 6,
   "metadata": {},
   "outputs": [
    {
     "name": "stdout",
     "output_type": "stream",
     "text": [
      "['Esto', 'es', 'una', 'frase', '.', 1, 'otro string', 't', 'e', 's', 't']\n"
     ]
    }
   ],
   "source": [
    "# ¿Qué hace el próximo código?\n",
    "# ¿Funcionará?\n",
    "# ¿Por qué?\n",
    "# ¿Os sorprende el resultado?\n",
    "\n",
    "list_1 += \"test\"\n",
    "\n",
    "print(list_1)"
   ]
  },
  {
   "cell_type": "code",
   "execution_count": 7,
   "metadata": {},
   "outputs": [
    {
     "ename": "TypeError",
     "evalue": "'int' object is not iterable",
     "output_type": "error",
     "traceback": [
      "\u001b[0;31m---------------------------------------------------------------------------\u001b[0m",
      "\u001b[0;31mTypeError\u001b[0m                                 Traceback (most recent call last)",
      "\u001b[0;32m<ipython-input-7-95436107158c>\u001b[0m in \u001b[0;36m<module>\u001b[0;34m\u001b[0m\n\u001b[1;32m      4\u001b[0m \u001b[0;31m# ¿Os sorprende el resultado?\u001b[0m\u001b[0;34m\u001b[0m\u001b[0;34m\u001b[0m\u001b[0;34m\u001b[0m\u001b[0m\n\u001b[1;32m      5\u001b[0m \u001b[0;34m\u001b[0m\u001b[0m\n\u001b[0;32m----> 6\u001b[0;31m \u001b[0mlist_1\u001b[0m \u001b[0;34m+=\u001b[0m \u001b[0;36m1\u001b[0m\u001b[0;34m\u001b[0m\u001b[0;34m\u001b[0m\u001b[0m\n\u001b[0m\u001b[1;32m      7\u001b[0m \u001b[0;34m\u001b[0m\u001b[0m\n\u001b[1;32m      8\u001b[0m \u001b[0mprint\u001b[0m\u001b[0;34m(\u001b[0m\u001b[0mlist_1\u001b[0m\u001b[0;34m)\u001b[0m\u001b[0;34m\u001b[0m\u001b[0;34m\u001b[0m\u001b[0m\n",
      "\u001b[0;31mTypeError\u001b[0m: 'int' object is not iterable"
     ]
    }
   ],
   "source": [
    "# ¿Qué hace el próximo código?\n",
    "# ¿Funcionará?\n",
    "# ¿Por qué?\n",
    "# ¿Os sorprende el resultado?\n",
    "\n",
    "list_1 += 1\n",
    "\n",
    "print(list_1)"
   ]
  },
  {
   "cell_type": "code",
   "execution_count": 8,
   "metadata": {},
   "outputs": [
    {
     "name": "stdout",
     "output_type": "stream",
     "text": [
      "['Esto', 'es', 'una', 'frase', '.', 1, 'otro string', 't', 'e', 's', 't', '12', 3]\n"
     ]
    }
   ],
   "source": [
    "# Si quieres añadir un único elemento a una lista (en vez de concatenar dos listas), debéis usar el método append()\n",
    "\n",
    "list_1.append(\"12\")\n",
    "list_1.append(3)\n",
    "\n",
    "print(list_1)"
   ]
  },
  {
   "cell_type": "code",
   "execution_count": 9,
   "metadata": {},
   "outputs": [
    {
     "name": "stdout",
     "output_type": "stream",
     "text": [
      "['Esto', 'es', 'una', 'frase', '.', 1, 'otro string', 't', 'e', 's', 't', '12', 3, 'another', 'list', True]\n"
     ]
    }
   ],
   "source": [
    "# La alternativa al operador \"+\", sería utilizar el método extend()\n",
    "list_1.extend([\"another\",\"list\",True])\n",
    "\n",
    "print(list_1)"
   ]
  },
  {
   "cell_type": "code",
   "execution_count": 10,
   "metadata": {},
   "outputs": [
    {
     "name": "stdout",
     "output_type": "stream",
     "text": [
      "Esto\n",
      "['una', 'frase', '.']\n"
     ]
    }
   ],
   "source": [
    "# Podéis acceder a elementos de una lista mediante segmentación (al igual que hicimos con los strings)\n",
    "\n",
    "print(list_1[0])\n",
    "\n",
    "print(list_1[2:5])"
   ]
  },
  {
   "cell_type": "code",
   "execution_count": 11,
   "metadata": {},
   "outputs": [
    {
     "name": "stdout",
     "output_type": "stream",
     "text": [
      "12\n",
      "3\n",
      "1212\n",
      "6\n"
     ]
    }
   ],
   "source": [
    "# Podéis observar como todos los elementos de una lista mantienen su tipo de dato original (no son convertidos al\n",
    "# al mismo tipo)\n",
    "\n",
    "# Esto es un string \"12\"\n",
    "print(list_1[11])\n",
    "\n",
    "# Esto es un entero 3\n",
    "print(list_1[12])\n",
    "\n",
    "\n",
    "# \"Multiplicar\" un string y un número sirve para repetir el string X veces\n",
    "\n",
    "# Esto es un string \"1212\"\n",
    "print(list_1[11]*2)\n",
    "\n",
    "# Esto es un número 6\n",
    "print(list_1[12]*2)"
   ]
  },
  {
   "cell_type": "code",
   "execution_count": 12,
   "metadata": {},
   "outputs": [
    {
     "name": "stdout",
     "output_type": "stream",
     "text": [
      "['Ojo!', 'es', 'una', 'frase', '.', 1, 'otro string', 't', 'e', 's', 't', '12', 3, 'another', 'list', True]\n"
     ]
    }
   ],
   "source": [
    "# A diferencia de los strings, las listas sí que permiten cambiar sus elementos\n",
    "list_1[0] = \"Ojo!\"\n",
    "\n",
    "print(list_1)"
   ]
  },
  {
   "cell_type": "code",
   "execution_count": 13,
   "metadata": {},
   "outputs": [
    {
     "name": "stdout",
     "output_type": "stream",
     "text": [
      "['Esto', 'es', 'otra', 'lista', 'esto']\n",
      "['Esto', 'es', 'otra', 'lista']\n"
     ]
    },
    {
     "ename": "ValueError",
     "evalue": "list.remove(x): x not in list",
     "output_type": "error",
     "traceback": [
      "\u001b[0;31m---------------------------------------------------------------------------\u001b[0m",
      "\u001b[0;31mValueError\u001b[0m                                Traceback (most recent call last)",
      "\u001b[0;32m<ipython-input-13-d5dc0dd93a16>\u001b[0m in \u001b[0;36m<module>\u001b[0;34m\u001b[0m\n\u001b[1;32m      8\u001b[0m \u001b[0mprint\u001b[0m\u001b[0;34m(\u001b[0m\u001b[0mlist_2\u001b[0m\u001b[0;34m)\u001b[0m\u001b[0;34m\u001b[0m\u001b[0;34m\u001b[0m\u001b[0m\n\u001b[1;32m      9\u001b[0m \u001b[0;34m\u001b[0m\u001b[0m\n\u001b[0;32m---> 10\u001b[0;31m \u001b[0mlist_2\u001b[0m\u001b[0;34m.\u001b[0m\u001b[0mremove\u001b[0m\u001b[0;34m(\u001b[0m\u001b[0;34m\"esto\"\u001b[0m\u001b[0;34m)\u001b[0m\u001b[0;34m\u001b[0m\u001b[0;34m\u001b[0m\u001b[0m\n\u001b[0m\u001b[1;32m     11\u001b[0m \u001b[0;34m\u001b[0m\u001b[0m\n\u001b[1;32m     12\u001b[0m \u001b[0mprint\u001b[0m\u001b[0;34m(\u001b[0m\u001b[0mlist_2\u001b[0m\u001b[0;34m)\u001b[0m\u001b[0;34m\u001b[0m\u001b[0;34m\u001b[0m\u001b[0m\n",
      "\u001b[0;31mValueError\u001b[0m: list.remove(x): x not in list"
     ]
    }
   ],
   "source": [
    "# El metodo remove() permite borrar todas las entradas de una lista con un valor determinado (mayús/minusculas importan)\n",
    "list_2 = [\"Esto\",\"es\",\"otra\",\"lista\",\"esto\"]\n",
    "\n",
    "print(list_2)\n",
    "\n",
    "list_2.remove(\"esto\")\n",
    "\n",
    "print(list_2)\n",
    "\n",
    "list_2.remove(\"esto\")\n",
    "\n",
    "print(list_2)"
   ]
  },
  {
   "cell_type": "code",
   "execution_count": 14,
   "metadata": {},
   "outputs": [
    {
     "name": "stdout",
     "output_type": "stream",
     "text": [
      "0\n"
     ]
    }
   ],
   "source": [
    "# El método index() devuelve el índice del primer elemento en una lista con un valor determinado\n",
    "list_2 = [\"esto\",\"es\",\"otra\",\"lista\",\"esto\"]\n",
    "\n",
    "print(list_2.index(\"esto\"))"
   ]
  },
  {
   "cell_type": "code",
   "execution_count": 15,
   "metadata": {},
   "outputs": [
    {
     "name": "stdout",
     "output_type": "stream",
     "text": [
      "¡Encontrado!\n",
      "¡No se ha encontrado!\n"
     ]
    }
   ],
   "source": [
    "# El operador \"in\" comprueba si el valor se encuentra en una lista\n",
    "if \"es\" in list_2:\n",
    "    print(\"¡Encontrado!\")\n",
    "    \n",
    "if \"que\" in list_2:\n",
    "    print(\"¡Encontrado de nuevo!\")\n",
    "else:\n",
    "    print(\"¡No se ha encontrado!\")"
   ]
  },
  {
   "cell_type": "code",
   "execution_count": 16,
   "metadata": {},
   "outputs": [
    {
     "name": "stdout",
     "output_type": "stream",
     "text": [
      "{'nombre': 'Alejandro', 'grupo': 2, 'aprobado': True, 'nota': 10}\n"
     ]
    }
   ],
   "source": [
    "# Un diccionario es un tipo de dato que tiene pares de clave-valor\n",
    "# De forma similar a las listas, los diccionarios pueden contener elementos de múltiples tipos\n",
    "dict_1 = {}\n",
    "\n",
    "dict_1[\"nombre\"] = \"Alejandro\"\n",
    "dict_1[\"grupo\"] = 2\n",
    "dict_1[\"aprobado\"] = True\n",
    "dict_1[\"nota\"] = 10\n",
    "\n",
    "print(dict_1)\n"
   ]
  },
  {
   "cell_type": "code",
   "execution_count": 17,
   "metadata": {},
   "outputs": [
    {
     "name": "stdout",
     "output_type": "stream",
     "text": [
      "Alejandro\n"
     ]
    }
   ],
   "source": [
    "# Puedes acceder a diferentes valores usando su clave\n",
    "print(dict_1[\"nombre\"])"
   ]
  },
  {
   "cell_type": "code",
   "execution_count": 18,
   "metadata": {},
   "outputs": [
    {
     "ename": "KeyError",
     "evalue": "'edad'",
     "output_type": "error",
     "traceback": [
      "\u001b[0;31m---------------------------------------------------------------------------\u001b[0m",
      "\u001b[0;31mKeyError\u001b[0m                                  Traceback (most recent call last)",
      "\u001b[0;32m<ipython-input-18-c3e6b8ea76d7>\u001b[0m in \u001b[0;36m<module>\u001b[0;34m\u001b[0m\n\u001b[1;32m      1\u001b[0m \u001b[0;31m# Si accedéis a una clave que no existe en el diccionario, salta una excepción\u001b[0m\u001b[0;34m\u001b[0m\u001b[0;34m\u001b[0m\u001b[0;34m\u001b[0m\u001b[0m\n\u001b[0;32m----> 2\u001b[0;31m \u001b[0mprint\u001b[0m\u001b[0;34m(\u001b[0m\u001b[0mdict_1\u001b[0m\u001b[0;34m[\u001b[0m\u001b[0;34m\"edad\"\u001b[0m\u001b[0;34m]\u001b[0m\u001b[0;34m)\u001b[0m\u001b[0;34m\u001b[0m\u001b[0;34m\u001b[0m\u001b[0m\n\u001b[0m",
      "\u001b[0;31mKeyError\u001b[0m: 'edad'"
     ]
    }
   ],
   "source": [
    "# Si accedéis a una clave que no existe en el diccionario, salta una excepción\n",
    "print(dict_1[\"edad\"])"
   ]
  },
  {
   "cell_type": "code",
   "execution_count": 19,
   "metadata": {},
   "outputs": [
    {
     "name": "stdout",
     "output_type": "stream",
     "text": [
      "9\n"
     ]
    }
   ],
   "source": [
    "# Podéis cambiar los valores de un diccionario para una clave en concreto\n",
    "\n",
    "# El operador -= es una abreviatura que funciona de igual modo que +=\n",
    "dict_1[\"nota\"] -= 1\n",
    "\n",
    "print(dict_1[\"nota\"])"
   ]
  },
  {
   "cell_type": "markdown",
   "metadata": {},
   "source": [
    "Extraer estadísticas de la frecuencia de palabras en un texto.\n",
    "\n",
    "La tarea para esta clase sería comenzar a trabajar con algunos textos y extraer estadísticas a nivel de palabras.\n",
    "\n",
    "Recibirás un texto simple (10 frases)y tendrás 3 objetivos:\n",
    "\n",
    "1) Dividir las frases del texto (strings) en pseudo-tokens utilizando la función \"split\"\n",
    "2) Crear una lista que contenga todas las palabras del vocabulario\n",
    "3) Crear un diccionario con todos los pares palabra-frecuencia\n",
    "\n",
    "Si termináis rápido podréis encontrar unos pocos ejercicios más avanzados, pero es importante entender los 3 primeros."
   ]
  },
  {
   "cell_type": "code",
   "execution_count": 20,
   "metadata": {},
   "outputs": [
    {
     "name": "stdout",
     "output_type": "stream",
     "text": [
      "['Desocupado lector: sin juramento me podrás creer que quisiera que este libro, como hijo del entendimiento, fuera el más hermoso, el más gallardo y más discreto que pudiera imaginarse.', 'Pero no he podido yo contravenir al orden de naturaleza; que en ella cada cosa engendra su semejante.', 'Y así, ¿qué podrá engendrar el estéril y mal cultivado ingenio mío, sino la historia de un hijo seco, avellanado, antojadizo y lleno de pensamientos varios y nunca imaginados de otro alguno, bien como quien se engendró en una cárcel, donde toda incomodidad tiene su asiento y donde todo triste ruido hace su habitación?', 'El sosiego, el lugar apacible, la amenidad de los campos, la serenidad de los cielos, el murmurar de las fuentes, la quietud del espíritu son grande parte para que las musas más estériles se muestren fecundas y ofrezcan partos al mundo que le colmen de maravilla y de contento.', 'Acontece tener un padre un hijo feo y sin gracia alguna, y el amor que le tiene le pone una venda en los ojos para que no vea sus faltas, antes las juzga por discreciones y lindezas y las cuenta a sus amigos por agudezas y donaires.', 'Pero yo, que, aunque parezco padre, soy padrastro de Don Quijote, no quiero irme con la corriente del uso, ni suplicarte, casi con las lágrimas en los ojos, como otros hacen, lector carísimo, que perdones o disimules las faltas que en este mi hijo vieres; y ni eres su pariente ni su amigo, y tienes tu alma en tu cuerpo y tu libre albedrío como el más pintado, y estás en tu casa, donde eres señor della, como el rey de sus alcabalas, y sabes lo que comúnmente se dice: que debajo de mi manto, al rey mato.', 'Todo lo cual te esenta y hace libre de todo respecto y obligación; y así, puedes decir de la historia todo aquello que te pareciere, sin temor que te calunien por el mal ni te premien por el bien que dijeres della.']\n"
     ]
    }
   ],
   "source": [
    "# Este es el texto inicial que utilizaréis para el análisis\n",
    "# Consiste en una lista de strings, donde cada string es una frase\n",
    "\n",
    "corpus_1 = []\n",
    "corpus_1.append(\"Desocupado lector: sin juramento me podrás creer que quisiera que este libro, como hijo del entendimiento, fuera el más hermoso, el más gallardo y más discreto que pudiera imaginarse.\")\n",
    "corpus_1.append(\"Pero no he podido yo contravenir al orden de naturaleza; que en ella cada cosa engendra su semejante.\")\n",
    "corpus_1.append(\"Y así, ¿qué podrá engendrar el estéril y mal cultivado ingenio mío, sino la historia de un hijo seco, avellanado, antojadizo y lleno de pensamientos varios y nunca imaginados de otro alguno, bien como quien se engendró en una cárcel, donde toda incomodidad tiene su asiento y donde todo triste ruido hace su habitación?\")\n",
    "corpus_1.append(\"El sosiego, el lugar apacible, la amenidad de los campos, la serenidad de los cielos, el murmurar de las fuentes, la quietud del espíritu son grande parte para que las musas más estériles se muestren fecundas y ofrezcan partos al mundo que le colmen de maravilla y de contento.\")\n",
    "corpus_1.append(\"Acontece tener un padre un hijo feo y sin gracia alguna, y el amor que le tiene le pone una venda en los ojos para que no vea sus faltas, antes las juzga por discreciones y lindezas y las cuenta a sus amigos por agudezas y donaires.\")\n",
    "corpus_1.append(\"Pero yo, que, aunque parezco padre, soy padrastro de Don Quijote, no quiero irme con la corriente del uso, ni suplicarte, casi con las lágrimas en los ojos, como otros hacen, lector carísimo, que perdones o disimules las faltas que en este mi hijo vieres; y ni eres su pariente ni su amigo, y tienes tu alma en tu cuerpo y tu libre albedrío como el más pintado, y estás en tu casa, donde eres señor della, como el rey de sus alcabalas, y sabes lo que comúnmente se dice: que debajo de mi manto, al rey mato.\")\n",
    "corpus_1.append(\"Todo lo cual te esenta y hace libre de todo respecto y obligación; y así, puedes decir de la historia todo aquello que te pareciere, sin temor que te calunien por el mal ni te premien por el bien que dijeres della.\")\n",
    "    \n",
    "\n",
    "print(corpus_1)"
   ]
  },
  {
   "cell_type": "code",
   "execution_count": 21,
   "metadata": {},
   "outputs": [
    {
     "name": "stdout",
     "output_type": "stream",
     "text": [
      "['Un', 'string', 'con', 'espacios', 'separando', 'las', 'palabras.']\n"
     ]
    }
   ],
   "source": [
    "# Observad el funcionamiento del método split()\n",
    "string_2 = \"Un string con espacios separando las palabras.\"\n",
    "list_3 = string_2.split()\n",
    "print(list_3)"
   ]
  },
  {
   "cell_type": "code",
   "execution_count": 24,
   "metadata": {},
   "outputs": [
    {
     "name": "stdout",
     "output_type": "stream",
     "text": [
      "Lista de listas:\n",
      "[['Desocupado', 'lector:', 'sin', 'juramento', 'me', 'podrás', 'creer', 'que', 'quisiera', 'que', 'este', 'libro,', 'como', 'hijo', 'del', 'entendimiento,', 'fuera', 'el', 'más', 'hermoso,', 'el', 'más', 'gallardo', 'y', 'más', 'discreto', 'que', 'pudiera', 'imaginarse.'], ['Pero', 'no', 'he', 'podido', 'yo', 'contravenir', 'al', 'orden', 'de', 'naturaleza;', 'que', 'en', 'ella', 'cada', 'cosa', 'engendra', 'su', 'semejante.'], ['Y', 'así,', '¿qué', 'podrá', 'engendrar', 'el', 'estéril', 'y', 'mal', 'cultivado', 'ingenio', 'mío,', 'sino', 'la', 'historia', 'de', 'un', 'hijo', 'seco,', 'avellanado,', 'antojadizo', 'y', 'lleno', 'de', 'pensamientos', 'varios', 'y', 'nunca', 'imaginados', 'de', 'otro', 'alguno,', 'bien', 'como', 'quien', 'se', 'engendró', 'en', 'una', 'cárcel,', 'donde', 'toda', 'incomodidad', 'tiene', 'su', 'asiento', 'y', 'donde', 'todo', 'triste', 'ruido', 'hace', 'su', 'habitación?'], ['El', 'sosiego,', 'el', 'lugar', 'apacible,', 'la', 'amenidad', 'de', 'los', 'campos,', 'la', 'serenidad', 'de', 'los', 'cielos,', 'el', 'murmurar', 'de', 'las', 'fuentes,', 'la', 'quietud', 'del', 'espíritu', 'son', 'grande', 'parte', 'para', 'que', 'las', 'musas', 'más', 'estériles', 'se', 'muestren', 'fecundas', 'y', 'ofrezcan', 'partos', 'al', 'mundo', 'que', 'le', 'colmen', 'de', 'maravilla', 'y', 'de', 'contento.'], ['Acontece', 'tener', 'un', 'padre', 'un', 'hijo', 'feo', 'y', 'sin', 'gracia', 'alguna,', 'y', 'el', 'amor', 'que', 'le', 'tiene', 'le', 'pone', 'una', 'venda', 'en', 'los', 'ojos', 'para', 'que', 'no', 'vea', 'sus', 'faltas,', 'antes', 'las', 'juzga', 'por', 'discreciones', 'y', 'lindezas', 'y', 'las', 'cuenta', 'a', 'sus', 'amigos', 'por', 'agudezas', 'y', 'donaires.'], ['Pero', 'yo,', 'que,', 'aunque', 'parezco', 'padre,', 'soy', 'padrastro', 'de', 'Don', 'Quijote,', 'no', 'quiero', 'irme', 'con', 'la', 'corriente', 'del', 'uso,', 'ni', 'suplicarte,', 'casi', 'con', 'las', 'lágrimas', 'en', 'los', 'ojos,', 'como', 'otros', 'hacen,', 'lector', 'carísimo,', 'que', 'perdones', 'o', 'disimules', 'las', 'faltas', 'que', 'en', 'este', 'mi', 'hijo', 'vieres;', 'y', 'ni', 'eres', 'su', 'pariente', 'ni', 'su', 'amigo,', 'y', 'tienes', 'tu', 'alma', 'en', 'tu', 'cuerpo', 'y', 'tu', 'libre', 'albedrío', 'como', 'el', 'más', 'pintado,', 'y', 'estás', 'en', 'tu', 'casa,', 'donde', 'eres', 'señor', 'della,', 'como', 'el', 'rey', 'de', 'sus', 'alcabalas,', 'y', 'sabes', 'lo', 'que', 'comúnmente', 'se', 'dice:', 'que', 'debajo', 'de', 'mi', 'manto,', 'al', 'rey', 'mato.'], ['Todo', 'lo', 'cual', 'te', 'esenta', 'y', 'hace', 'libre', 'de', 'todo', 'respecto', 'y', 'obligación;', 'y', 'así,', 'puedes', 'decir', 'de', 'la', 'historia', 'todo', 'aquello', 'que', 'te', 'pareciere,', 'sin', 'temor', 'que', 'te', 'calunien', 'por', 'el', 'mal', 'ni', 'te', 'premien', 'por', 'el', 'bien', 'que', 'dijeres', 'della.']]\n",
      "\n",
      "------------------------------\n",
      "------------------------------\n",
      "\n",
      "Lista de strings:\n",
      "['Desocupado', 'lector:', 'sin', 'juramento', 'me', 'podrás', 'creer', 'que', 'quisiera', 'que', 'este', 'libro,', 'como', 'hijo', 'del', 'entendimiento,', 'fuera', 'el', 'más', 'hermoso,', 'el', 'más', 'gallardo', 'y', 'más', 'discreto', 'que', 'pudiera', 'imaginarse.', 'Pero', 'no', 'he', 'podido', 'yo', 'contravenir', 'al', 'orden', 'de', 'naturaleza;', 'que', 'en', 'ella', 'cada', 'cosa', 'engendra', 'su', 'semejante.', 'Y', 'así,', '¿qué', 'podrá', 'engendrar', 'el', 'estéril', 'y', 'mal', 'cultivado', 'ingenio', 'mío,', 'sino', 'la', 'historia', 'de', 'un', 'hijo', 'seco,', 'avellanado,', 'antojadizo', 'y', 'lleno', 'de', 'pensamientos', 'varios', 'y', 'nunca', 'imaginados', 'de', 'otro', 'alguno,', 'bien', 'como', 'quien', 'se', 'engendró', 'en', 'una', 'cárcel,', 'donde', 'toda', 'incomodidad', 'tiene', 'su', 'asiento', 'y', 'donde', 'todo', 'triste', 'ruido', 'hace', 'su', 'habitación?', 'El', 'sosiego,', 'el', 'lugar', 'apacible,', 'la', 'amenidad', 'de', 'los', 'campos,', 'la', 'serenidad', 'de', 'los', 'cielos,', 'el', 'murmurar', 'de', 'las', 'fuentes,', 'la', 'quietud', 'del', 'espíritu', 'son', 'grande', 'parte', 'para', 'que', 'las', 'musas', 'más', 'estériles', 'se', 'muestren', 'fecundas', 'y', 'ofrezcan', 'partos', 'al', 'mundo', 'que', 'le', 'colmen', 'de', 'maravilla', 'y', 'de', 'contento.', 'Acontece', 'tener', 'un', 'padre', 'un', 'hijo', 'feo', 'y', 'sin', 'gracia', 'alguna,', 'y', 'el', 'amor', 'que', 'le', 'tiene', 'le', 'pone', 'una', 'venda', 'en', 'los', 'ojos', 'para', 'que', 'no', 'vea', 'sus', 'faltas,', 'antes', 'las', 'juzga', 'por', 'discreciones', 'y', 'lindezas', 'y', 'las', 'cuenta', 'a', 'sus', 'amigos', 'por', 'agudezas', 'y', 'donaires.', 'Pero', 'yo,', 'que,', 'aunque', 'parezco', 'padre,', 'soy', 'padrastro', 'de', 'Don', 'Quijote,', 'no', 'quiero', 'irme', 'con', 'la', 'corriente', 'del', 'uso,', 'ni', 'suplicarte,', 'casi', 'con', 'las', 'lágrimas', 'en', 'los', 'ojos,', 'como', 'otros', 'hacen,', 'lector', 'carísimo,', 'que', 'perdones', 'o', 'disimules', 'las', 'faltas', 'que', 'en', 'este', 'mi', 'hijo', 'vieres;', 'y', 'ni', 'eres', 'su', 'pariente', 'ni', 'su', 'amigo,', 'y', 'tienes', 'tu', 'alma', 'en', 'tu', 'cuerpo', 'y', 'tu', 'libre', 'albedrío', 'como', 'el', 'más', 'pintado,', 'y', 'estás', 'en', 'tu', 'casa,', 'donde', 'eres', 'señor', 'della,', 'como', 'el', 'rey', 'de', 'sus', 'alcabalas,', 'y', 'sabes', 'lo', 'que', 'comúnmente', 'se', 'dice:', 'que', 'debajo', 'de', 'mi', 'manto,', 'al', 'rey', 'mato.', 'Todo', 'lo', 'cual', 'te', 'esenta', 'y', 'hace', 'libre', 'de', 'todo', 'respecto', 'y', 'obligación;', 'y', 'así,', 'puedes', 'decir', 'de', 'la', 'historia', 'todo', 'aquello', 'que', 'te', 'pareciere,', 'sin', 'temor', 'que', 'te', 'calunien', 'por', 'el', 'mal', 'ni', 'te', 'premien', 'por', 'el', 'bien', 'que', 'dijeres', 'della.']\n"
     ]
    }
   ],
   "source": [
    "# Tarea 1: Segmentación por palabras\n",
    "# Leed cada frase del \"corpus\" y separad las palabras con el método split()\n",
    "# Podéis guardar el resultado en una única lista para todo el corpus o en una lista de listas (primer nivel - frases, segundo nivel - palabras)\n",
    "# Intentad ambas opciones\n",
    "\n",
    "# Forma abreviada: lista_de_listas = [frase.split() for frase in corpus_1]\n",
    "lista_de_listas = []\n",
    "for frase in corpus_1:\n",
    "    lista_de_listas.append(frase.split())\n",
    "# Forma abreviada: lista_de_strings = [palabra for frase in corpus_1 for palabra in frase.split()]\n",
    "lista_de_strings = []\n",
    "for frase in corpus_1:\n",
    "    lista_de_strings.extend(frase.split())\n",
    "    \n",
    "print(f'Lista de listas:\\n{lista_de_listas}')\n",
    "print('\\n' + '-' * 30 + '\\n' + '-' * 30 + '\\n')\n",
    "print(f'Lista de strings:\\n{lista_de_strings}')\n"
   ]
  },
  {
   "cell_type": "code",
   "execution_count": 28,
   "metadata": {},
   "outputs": [
    {
     "name": "stdout",
     "output_type": "stream",
     "text": [
      "El vocabulario con sets es: ['Acontece', 'Desocupado', 'Don', 'El', 'Pero', 'Quijote,', 'Todo', 'Y', 'a', 'agudezas', 'al', 'albedrío', 'alcabalas,', 'alguna,', 'alguno,', 'alma', 'amenidad', 'amigo,', 'amigos', 'amor', 'antes', 'antojadizo', 'apacible,', 'aquello', 'asiento', 'así,', 'aunque', 'avellanado,', 'bien', 'cada', 'calunien', 'campos,', 'carísimo,', 'casa,', 'casi', 'cielos,', 'colmen', 'como', 'comúnmente', 'con', 'contento.', 'contravenir', 'corriente', 'cosa', 'creer', 'cual', 'cuenta', 'cuerpo', 'cultivado', 'cárcel,', 'de', 'debajo', 'decir', 'del', 'della,', 'della.', 'dice:', 'dijeres', 'discreciones', 'discreto', 'disimules', 'donaires.', 'donde', 'el', 'ella', 'en', 'engendra', 'engendrar', 'engendró', 'entendimiento,', 'eres', 'esenta', 'espíritu', 'este', 'estás', 'estéril', 'estériles', 'faltas', 'faltas,', 'fecundas', 'feo', 'fuentes,', 'fuera', 'gallardo', 'gracia', 'grande', 'habitación?', 'hace', 'hacen,', 'he', 'hermoso,', 'hijo', 'historia', 'imaginados', 'imaginarse.', 'incomodidad', 'ingenio', 'irme', 'juramento', 'juzga', 'la', 'las', 'le', 'lector', 'lector:', 'libre', 'libro,', 'lindezas', 'lleno', 'lo', 'los', 'lugar', 'lágrimas', 'mal', 'manto,', 'maravilla', 'mato.', 'me', 'mi', 'muestren', 'mundo', 'murmurar', 'musas', 'más', 'mío,', 'naturaleza;', 'ni', 'no', 'nunca', 'o', 'obligación;', 'ofrezcan', 'ojos', 'ojos,', 'orden', 'otro', 'otros', 'padrastro', 'padre', 'padre,', 'para', 'pareciere,', 'parezco', 'pariente', 'parte', 'partos', 'pensamientos', 'perdones', 'pintado,', 'podido', 'podrá', 'podrás', 'pone', 'por', 'premien', 'pudiera', 'puedes', 'que', 'que,', 'quien', 'quiero', 'quietud', 'quisiera', 'respecto', 'rey', 'ruido', 'sabes', 'se', 'seco,', 'semejante.', 'serenidad', 'señor', 'sin', 'sino', 'son', 'sosiego,', 'soy', 'su', 'suplicarte,', 'sus', 'te', 'temor', 'tener', 'tiene', 'tienes', 'toda', 'todo', 'triste', 'tu', 'un', 'una', 'uso,', 'varios', 'vea', 'venda', 'vieres;', 'y', 'yo', 'yo,', '¿qué']\n",
      "El vocabulario con listas es: ['Acontece', 'Desocupado', 'Don', 'El', 'Pero', 'Quijote,', 'Todo', 'Y', 'a', 'agudezas', 'al', 'albedrío', 'alcabalas,', 'alguna,', 'alguno,', 'alma', 'amenidad', 'amigo,', 'amigos', 'amor', 'antes', 'antojadizo', 'apacible,', 'aquello', 'asiento', 'así,', 'aunque', 'avellanado,', 'bien', 'cada', 'calunien', 'campos,', 'carísimo,', 'casa,', 'casi', 'cielos,', 'colmen', 'como', 'comúnmente', 'con', 'contento.', 'contravenir', 'corriente', 'cosa', 'creer', 'cual', 'cuenta', 'cuerpo', 'cultivado', 'cárcel,', 'de', 'debajo', 'decir', 'del', 'della,', 'della.', 'dice:', 'dijeres', 'discreciones', 'discreto', 'disimules', 'donaires.', 'donde', 'el', 'ella', 'en', 'engendra', 'engendrar', 'engendró', 'entendimiento,', 'eres', 'esenta', 'espíritu', 'este', 'estás', 'estéril', 'estériles', 'faltas', 'faltas,', 'fecundas', 'feo', 'fuentes,', 'fuera', 'gallardo', 'gracia', 'grande', 'habitación?', 'hace', 'hacen,', 'he', 'hermoso,', 'hijo', 'historia', 'imaginados', 'imaginarse.', 'incomodidad', 'ingenio', 'irme', 'juramento', 'juzga', 'la', 'las', 'le', 'lector', 'lector:', 'libre', 'libro,', 'lindezas', 'lleno', 'lo', 'los', 'lugar', 'lágrimas', 'mal', 'manto,', 'maravilla', 'mato.', 'me', 'mi', 'muestren', 'mundo', 'murmurar', 'musas', 'más', 'mío,', 'naturaleza;', 'ni', 'no', 'nunca', 'o', 'obligación;', 'ofrezcan', 'ojos', 'ojos,', 'orden', 'otro', 'otros', 'padrastro', 'padre', 'padre,', 'para', 'pareciere,', 'parezco', 'pariente', 'parte', 'partos', 'pensamientos', 'perdones', 'pintado,', 'podido', 'podrá', 'podrás', 'pone', 'por', 'premien', 'pudiera', 'puedes', 'que', 'que,', 'quien', 'quiero', 'quietud', 'quisiera', 'respecto', 'rey', 'ruido', 'sabes', 'se', 'seco,', 'semejante.', 'serenidad', 'señor', 'sin', 'sino', 'son', 'sosiego,', 'soy', 'su', 'suplicarte,', 'sus', 'te', 'temor', 'tener', 'tiene', 'tienes', 'toda', 'todo', 'triste', 'tu', 'un', 'una', 'uso,', 'varios', 'vea', 'venda', 'vieres;', 'y', 'yo', 'yo,', '¿qué']\n"
     ]
    }
   ],
   "source": [
    "# Tarea 2\n",
    "# Cread una lista del vocabulario existente en el corpus\n",
    "# Recordad, el vocabulario debería contener todas las palabras sin repeticiones (una única vez cada una)\n",
    "\n",
    "# Alternativa con el tipo de dato set\n",
    "vocab = set()\n",
    "for frase in corpus_1:\n",
    "    vocab.update(frase.split())\n",
    "\n",
    "vocab = sorted(list(vocab))\n",
    "    \n",
    "# Alternativa con lista\n",
    "vocab_alt = []\n",
    "for frase in corpus_1:\n",
    "    for palabra in frase.split():\n",
    "        if palabra not in vocab_alt:\n",
    "            vocab_alt.append(palabra)  \n",
    "# Con list comprehension: vocab = set([palabra for frase in corpus_1 for palabra in frase.split()])\n",
    "\n",
    "vocab_alt = sorted(list(vocab_alt))\n",
    "\n",
    "\n",
    "print(f'El vocabulario con sets es: {sorted(list(vocab))}')\n",
    "print(f'El vocabulario con listas es: {sorted(vocab_alt)}')"
   ]
  },
  {
   "cell_type": "code",
   "execution_count": 30,
   "metadata": {},
   "outputs": [
    {
     "name": "stdout",
     "output_type": "stream",
     "text": [
      "La frecuencia de las palabras es: {'Desocupado': 1, 'lector:': 1, 'sin': 3, 'juramento': 1, 'me': 1, 'podrás': 1, 'creer': 1, 'que': 16, 'quisiera': 1, 'este': 2, 'libro': 1, 'como': 5, 'hijo': 4, 'del': 3, 'entendimiento': 1, 'fuera': 1, 'el': 10, 'más': 5, 'hermoso': 1, 'gallardo': 1, 'y': 20, 'discreto': 1, 'pudiera': 1, 'imaginarse': 1, 'Pero': 2, 'no': 3, 'he': 1, 'podido': 1, 'yo': 2, 'contravenir': 1, 'al': 3, 'orden': 1, 'de': 14, 'naturaleza;': 1, 'en': 7, 'ella': 1, 'cada': 1, 'cosa': 1, 'engendra': 1, 'su': 5, 'semejante': 1, 'Y': 1, 'así': 2, '¿qué': 1, 'podrá': 1, 'engendrar': 1, 'estéril': 1, 'mal': 2, 'cultivado': 1, 'ingenio': 1, 'mío': 1, 'sino': 1, 'la': 6, 'historia': 2, 'un': 3, 'seco': 1, 'avellanado': 1, 'antojadizo': 1, 'lleno': 1, 'pensamientos': 1, 'varios': 1, 'nunca': 1, 'imaginados': 1, 'otro': 1, 'alguno': 1, 'bien': 2, 'quien': 1, 'se': 3, 'engendró': 1, 'una': 2, 'cárcel': 1, 'donde': 3, 'toda': 1, 'incomodidad': 1, 'tiene': 2, 'asiento': 1, 'todo': 3, 'triste': 1, 'ruido': 1, 'hace': 2, 'habitación?': 1, 'El': 1, 'sosiego': 1, 'lugar': 1, 'apacible': 1, 'amenidad': 1, 'los': 4, 'campos': 1, 'serenidad': 1, 'cielos': 1, 'murmurar': 1, 'las': 6, 'fuentes': 1, 'quietud': 1, 'espíritu': 1, 'son': 1, 'grande': 1, 'parte': 1, 'para': 2, 'musas': 1, 'estériles': 1, 'muestren': 1, 'fecundas': 1, 'ofrezcan': 1, 'partos': 1, 'mundo': 1, 'le': 3, 'colmen': 1, 'maravilla': 1, 'contento': 1, 'Acontece': 1, 'tener': 1, 'padre': 2, 'feo': 1, 'gracia': 1, 'alguna': 1, 'amor': 1, 'pone': 1, 'venda': 1, 'ojos': 2, 'vea': 1, 'sus': 3, 'faltas': 2, 'antes': 1, 'juzga': 1, 'por': 4, 'discreciones': 1, 'lindezas': 1, 'cuenta': 1, 'a': 1, 'amigos': 1, 'agudezas': 1, 'donaires': 1, 'aunque': 1, 'parezco': 1, 'soy': 1, 'padrastro': 1, 'Don': 1, 'Quijote': 1, 'quiero': 1, 'irme': 1, 'con': 2, 'corriente': 1, 'uso': 1, 'ni': 4, 'suplicarte': 1, 'casi': 1, 'lágrimas': 1, 'otros': 1, 'hacen': 1, 'lector': 1, 'carísimo': 1, 'perdones': 1, 'o': 1, 'disimules': 1, 'mi': 2, 'vieres;': 1, 'eres': 2, 'pariente': 1, 'amigo': 1, 'tienes': 1, 'tu': 4, 'alma': 1, 'cuerpo': 1, 'libre': 2, 'albedrío': 1, 'pintado': 1, 'estás': 1, 'casa': 1, 'señor': 1, 'della': 2, 'rey': 2, 'alcabalas': 1, 'sabes': 1, 'lo': 2, 'comúnmente': 1, 'dice:': 1, 'debajo': 1, 'manto': 1, 'mato': 1, 'Todo': 1, 'cual': 1, 'te': 4, 'esenta': 1, 'respecto': 1, 'obligación;': 1, 'puedes': 1, 'decir': 1, 'aquello': 1, 'pareciere': 1, 'temor': 1, 'calunien': 1, 'premien': 1, 'dijeres': 1}\n"
     ]
    }
   ],
   "source": [
    "# Tarea 3:\n",
    "# Cread un diccionario con las frecuencias de todas las palabras en el corpus\n",
    "# El formato del diccionario debería ser el siguiente (palabra/clave, frecuencia/valor)\n",
    "# dict_2[palabra] = frecuencia\n",
    "\n",
    "frecs = {}\n",
    "for frase in corpus_1:\n",
    "    for palabra in frase.split():\n",
    "        # Borramos comas y puntos al final de palabra. También podríamos lematizar, etc.\n",
    "        palabra = palabra.replace(',', '').replace('.', '')\n",
    "        frecs[palabra] = frecs.get(palabra, 0) + 1\n",
    "        \n",
    "print(f'La frecuencia de las palabras es: {frecs}')"
   ]
  },
  {
   "cell_type": "code",
   "execution_count": 31,
   "metadata": {},
   "outputs": [],
   "source": [
    "# Podéis observar los resultados de la tarea 3 utilizando las siguientes predefinidas funciones\n",
    "\n",
    " \n",
    "\n",
    "# Functions that print and plot statisitics\n",
    "# Do not change those\n",
    "import collections\n",
    "import matplotlib.pyplot as plt\n",
    "def mostCommonWords(d):\n",
    "    c = collections.Counter(d)\n",
    "    most = c.most_common(10)\n",
    "    print('Rank\\t\\tPalabra\\t\\tFrecuencia')\n",
    "    print('----\\t\\t----\\t\\t---------')\n",
    "    for i,(w,f) in enumerate(most):\n",
    "        print(str(i+1)+ '\\t\\t' + w + '\\t\\t' + str(f))\n",
    "\n",
    "def plot(d):\n",
    "    c = collections.Counter(d)\n",
    "    most = c.most_common()\n",
    "    plt.plot([x[1] for x in most])\n",
    "    plt.grid()\n",
    "    plt.xlabel('Rank de la palabra')\n",
    "    plt.ylabel('Frecuencia')\n",
    "    \n",
    "    \n"
   ]
  },
  {
   "cell_type": "code",
   "execution_count": 32,
   "metadata": {},
   "outputs": [
    {
     "name": "stdout",
     "output_type": "stream",
     "text": [
      "Rank\t\tPalabra\t\tFrecuencia\n",
      "----\t\t----\t\t---------\n",
      "1\t\tpalabra_15\t\t100\n",
      "2\t\tpalabra_45\t\t100\n",
      "3\t\tpalabra_4\t\t95\n",
      "4\t\tpalabra_10\t\t94\n",
      "5\t\tpalabra_16\t\t94\n",
      "6\t\tpalabra_27\t\t88\n",
      "7\t\tpalabra_8\t\t87\n",
      "8\t\tpalabra_3\t\t86\n",
      "9\t\tpalabra_30\t\t84\n",
      "10\t\tpalabra_2\t\t83\n"
     ]
    },
    {
     "data": {
      "image/png": "[encoded data removed]",
      "text/plain": [
       "<Figure size 432x288 with 1 Axes>"
      ]
     },
     "metadata": {
      "needs_background": "light"
     },
     "output_type": "display_data"
    }
   ],
   "source": [
    "# Ejemplo de diccionario de frecuencias\n",
    "# Cuando tu código esté listo, usa tu diccionario construido anteriormente\n",
    "\n",
    "import random\n",
    "ejemplo_dict = {}\n",
    "for cnt in range(50):\n",
    "    palabra_actual = \"palabra_\" + str(cnt)\n",
    "    ejemplo_dict[palabra_actual] = random.randint(1,100)\n",
    "    \n",
    "mostCommonWords(ejemplo_dict)\n",
    "\n",
    "plot(ejemplo_dict)"
   ]
  },
  {
   "cell_type": "code",
   "execution_count": 33,
   "metadata": {},
   "outputs": [
    {
     "name": "stdout",
     "output_type": "stream",
     "text": [
      "Rank\t\tPalabra\t\tFrecuencia\n",
      "----\t\t----\t\t---------\n",
      "1\t\ty\t\t20\n",
      "2\t\tque\t\t16\n",
      "3\t\tde\t\t14\n",
      "4\t\tel\t\t10\n",
      "5\t\ten\t\t7\n",
      "6\t\tla\t\t6\n",
      "7\t\tlas\t\t6\n",
      "8\t\tcomo\t\t5\n",
      "9\t\tmás\t\t5\n",
      "10\t\tsu\t\t5\n"
     ]
    },
    {
     "data": {
      "image/png": "[encoded data removed]",
      "text/plain": [
       "<Figure size 432x288 with 1 Axes>"
      ]
     },
     "metadata": {
      "needs_background": "light"
     },
     "output_type": "display_data"
    }
   ],
   "source": [
    "mostCommonWords(frecs)\n",
    "\n",
    "plot(frecs)"
   ]
  },
  {
   "cell_type": "code",
   "execution_count": null,
   "metadata": {},
   "outputs": [],
   "source": []
  },
  {
   "cell_type": "code",
   "execution_count": null,
   "metadata": {},
   "outputs": [],
   "source": []
  },
  {
   "cell_type": "code",
   "execution_count": null,
   "metadata": {},
   "outputs": [],
   "source": []
  },
  {
   "cell_type": "code",
   "execution_count": null,
   "metadata": {},
   "outputs": [],
   "source": []
  }
 ],
 "metadata": {
  "kernelspec": {
   "display_name": "Python 3",
   "language": "python",
   "name": "python3"
  },
  "language_info": {
   "codemirror_mode": {
    "name": "ipython",
    "version": 3
   },
   "file_extension": ".py",
   "mimetype": "text/x-python",
   "name": "python",
   "nbconvert_exporter": "python",
   "pygments_lexer": "ipython3",
   "version": "3.8.5"
  }
 },
 "nbformat": 4,
 "nbformat_minor": 2
}
