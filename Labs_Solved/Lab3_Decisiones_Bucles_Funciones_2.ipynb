{
 "cells": [
  {
   "cell_type": "markdown",
   "metadata": {},
   "source": [
    "# Python para Linguistas\n",
    "\n",
    "Notebook 3: Estructuras de decisión. Bucles. Funciones. Parte 2\n",
    "\n",
    "Alejandro Ariza\n",
    "\n",
    "Universitat de Barcelona 2022"
   ]
  },
  {
   "cell_type": "markdown",
   "metadata": {},
   "source": [
    "### Estructuras de decisión y bucles (Parte 2)\n",
    "\n",
    "In this notebook we will practice more with decision structures and loops\n",
    "\n"
   ]
  },
  {
   "cell_type": "code",
   "execution_count": 1,
   "metadata": {},
   "outputs": [
    {
     "name": "stdout",
     "output_type": "stream",
     "text": [
      "Esto\n",
      "es\n",
      "una\n",
      "frase\n"
     ]
    }
   ],
   "source": [
    "# Comenzaremos experimentando con el bucle for\n",
    "# Este es el ejemplo de las diapositivas\n",
    "# Comprobaremos el código y entenderemos su funcionamiento viendo lo que guarda la variable palabra en cada iteración\n",
    "for palabra in [\"Esto\", \"es\", \"una\", \"frase\"]:\n",
    "    print(palabra)\n",
    "\n"
   ]
  },
  {
   "cell_type": "code",
   "execution_count": 5,
   "metadata": {},
   "outputs": [
    {
     "name": "stdout",
     "output_type": "stream",
     "text": [
      "Hello World 1\n",
      "Hello World 2\n",
      "Hello World 3\n"
     ]
    }
   ],
   "source": [
    "# Tarea 1\n",
    "# Hacer el mismo \"Hello World\" que en el notebook de la semana pasada, pero utilizando un bucle \"for\"\n",
    "# La salida por pantalla deseada es:\n",
    "# Hello World 1\n",
    "# Hello World 2\n",
    "# Hello World 3\n",
    "n_iters = 3\n",
    "for i in range(n_iters):\n",
    "    print(f'Hello World {i+1}')"
   ]
  },
  {
   "cell_type": "code",
   "execution_count": 7,
   "metadata": {},
   "outputs": [
    {
     "name": "stdout",
     "output_type": "stream",
     "text": [
      "Hola, ¿Qué tal? 1\n",
      "Hola, ¿Qué tal? 2\n",
      "Hola, ¿Qué tal? 3\n"
     ]
    }
   ],
   "source": [
    "# Tarea 2\n",
    "# Escribe una función para la Tarea 1, que tome dos parámetros: número de repeticiones y el texto\n",
    "def hello_world(n_iters, texto):\n",
    "    for i in range(n_iters):\n",
    "        print(f'{texto} {i+1}')\n",
    "\n",
    "hello_world(n_iters=3, texto=\"Hola, ¿Qué tal?\")"
   ]
  },
  {
   "cell_type": "code",
   "execution_count": 8,
   "metadata": {},
   "outputs": [
    {
     "name": "stdout",
     "output_type": "stream",
     "text": [
      "¿Cómo te llamas? Alex\n",
      "Encantado de conocerte Alex\n"
     ]
    }
   ],
   "source": [
    "# La función nativa input() pide una interacción al usuario\n",
    "# Puedes introducir un valor en la interacción con la función input() y guardarlo en una variable\n",
    "human_inp = input(\"¿Cómo te llamas? \")\n",
    "print(\"Encantado de conocerte \" + human_inp)"
   ]
  },
  {
   "cell_type": "code",
   "execution_count": 12,
   "metadata": {},
   "outputs": [
    {
     "name": "stdout",
     "output_type": "stream",
     "text": [
      "¿Cómo te llamas? Alex\n",
      "¿Qué hora es? -1\n",
      "La hora debe estar entre 0 y 24\n"
     ]
    }
   ],
   "source": [
    "# Tarea 3:\n",
    "# Copia el código de la función saludo() del previo notebook\n",
    "# Asegúrate de añadir un control para números negativos y superiores a 25\n",
    "# Modificar el código para que incluya un nombre en el saludo\n",
    "# Usar la función input() para pedir la hora y el nombre del usuario\n",
    "# Saludar a la persona de acuerdo a la información introducida\n",
    "\n",
    "def saludar():\n",
    "    nombre = input('¿Cómo te llamas? ')\n",
    "    hora = int(input('¿Qué hora es? '))\n",
    "    if hora < 0 or hora > 24:\n",
    "        print('La hora debe estar entre 0 y 24')\n",
    "    elif hora < 12:\n",
    "        print(f'Buenos días {nombre}!')\n",
    "    elif hora == 12:\n",
    "        print(f'¡Es mediodía {nombre}!')\n",
    "    elif hora > 12 and hora <= 18:  # Es igual a escribir \"if 12 <= hora <= 18:\"\n",
    "        print(f\"¡Buenas tardes {nombre}!\")\n",
    "    elif hora <= 24:\n",
    "        print(f'¡Buenas noches {nombre}!')\n",
    "        \n",
    "saludar()"
   ]
  },
  {
   "cell_type": "code",
   "execution_count": 15,
   "metadata": {},
   "outputs": [
    {
     "name": "stdout",
     "output_type": "stream",
     "text": [
      "¿Cómo te llamas? Alex\n",
      "¿Qué hora es? 11\n",
      "Hola Alex\n",
      "¿Qué hora es? 12\n",
      "Hola Alex\n",
      "¿Qué hora es? 14\n",
      "Hola Alex\n",
      "¿Qué hora es? 19\n"
     ]
    }
   ],
   "source": [
    "# Tarea 4:\n",
    "# En esta tarea usaremos la misma función para saludar que en la Tarea 1\n",
    "# Pedirle a la persona su nombre (una única vez)\n",
    "# Siempre y cuando la fecha sea menos que las 18:00, hacer lo siquiente:\n",
    "#     Preguntarle a la persona por la hora\n",
    "#     Saludar a la persona\n",
    "# \n",
    "# Continuar preguntando y saludando hasta que recibas una hora por encima de las 18\n",
    "# PISTA - para convertir el string a entero, usar la función int()\n",
    "\n",
    "def saludo():\n",
    "    name = input('¿Cómo te llamas? ')\n",
    "    while int(input('¿Qué hora es? ')) <= 18:\n",
    "        print(f'Hola {name}')\n",
    "        \n",
    "saludo()"
   ]
  },
  {
   "cell_type": "code",
   "execution_count": 1,
   "metadata": {},
   "outputs": [],
   "source": [
    "# Avanzado! \n",
    "# Tarea 5:\n",
    "# En esta tarea queremos que el usuario nos dé el nombre de un país de la Unión Europea\n",
    "# Tenemos los nombres de los países en una lista predefinida\n",
    "# El programa funcionará de la siguiente manera:\n",
    "#    Le pedirá al usuario un país\n",
    "#    Comprobará si el país está en la lista\n",
    "#    Si el país es correcto, el programa imprimirá \"OK\" y se saldrá\n",
    "#    Si el país es incorrecto, el programa devolverá \"País equivocado\" y preguntará de nuevo\n",
    "# \n",
    "#    El programa deberá ignorar mayúscular y minúsculas\n",
    "# \n",
    "#    Hay al menos 3 formas de conseguirlo: usando \"for\", \"while\" o el operador especial \"in\" (buscad en Internet el funcionamiento)\n",
    "#    ¿Podéis conseguirlo con las tres?\n",
    "\n",
    "EU_COUNTRIES = ['ALEMANIA', 'AUSTRIA', 'BELGICA', 'BULGARIA', 'CHIPRE', 'CROACIA', 'DINAMARCA', 'ESLOVENIA', 'ESPAÑA',\n",
    "                'ESTONIA', 'FINLANDIA', 'FRANCIA', 'GRECIA', 'HUNGRIA', 'IRLANDA', 'ITALIA', 'LETONIA', 'LITUANIA',\n",
    "                'LUXEMBURGO', 'MALTA', 'PAISES BAJOS', 'POLONIA', 'PORTUGAL', 'REPÚBLICA CHECA', 'REPUBLICA ESLOVACA',\n",
    "                'RUMANIA', 'SUECIA']\n",
    "\n",
    "def comprobar_pais_in():\n",
    "    while input('Dame un país: ').upper() not in EU_COUNTRIES:\n",
    "        print('País equivocado')\n",
    "        \n",
    "    print('OK')\n",
    "    \n",
    "def comprobar_pais_for():\n",
    "    found = False\n",
    "    while not found:\n",
    "        pais = input('Dame un país: ').upper()\n",
    "        for eu_pais in EU_COUNTRIES:\n",
    "            if eu_pais == pais:\n",
    "                found = True\n",
    "                print('OK')\n",
    "                return\n",
    "        print('País equivocado')\n",
    "\n",
    "def comprobar_pais_recursive():\n",
    "    pais = input('Dame un país: ').upper()\n",
    "    if pais in EU_COUNTRIES:\n",
    "        print('OK')\n",
    "        return\n",
    "    print('País equivocado')\n",
    "    comprobar_pais_recursive()\n"
   ]
  },
  {
   "cell_type": "code",
   "execution_count": 18,
   "metadata": {},
   "outputs": [
    {
     "name": "stdout",
     "output_type": "stream",
     "text": [
      "Dame un país: china\n",
      "País equivocado\n",
      "Dame un país: japon\n",
      "País equivocado\n",
      "Dame un país: italia\n",
      "OK\n"
     ]
    }
   ],
   "source": [
    "comprobar_pais_in()"
   ]
  },
  {
   "cell_type": "code",
   "execution_count": 2,
   "metadata": {},
   "outputs": [
    {
     "name": "stdout",
     "output_type": "stream",
     "text": [
      "Dame un país: china\n",
      "País equivocado\n",
      "Dame un país: japon\n",
      "País equivocado\n",
      "Dame un país: italia\n",
      "OK\n"
     ]
    }
   ],
   "source": [
    "comprobar_pais_recursive()"
   ]
  },
  {
   "cell_type": "code",
   "execution_count": 24,
   "metadata": {},
   "outputs": [
    {
     "name": "stdout",
     "output_type": "stream",
     "text": [
      "Dame un país: china\n",
      "País equivocado\n",
      "Dame un país: japon\n",
      "País equivocado\n",
      "Dame un país: italia\n",
      "OK\n"
     ]
    }
   ],
   "source": [
    "comprobar_pais_for()"
   ]
  },
  {
   "cell_type": "code",
   "execution_count": null,
   "metadata": {},
   "outputs": [],
   "source": []
  }
 ],
 "metadata": {
  "kernelspec": {
   "display_name": "Python 3",
   "language": "python",
   "name": "python3"
  },
  "language_info": {
   "codemirror_mode": {
    "name": "ipython",
    "version": 3
   },
   "file_extension": ".py",
   "mimetype": "text/x-python",
   "name": "python",
   "nbconvert_exporter": "python",
   "pygments_lexer": "ipython3",
   "version": "3.8.5"
  }
 },
 "nbformat": 4,
 "nbformat_minor": 2
}
