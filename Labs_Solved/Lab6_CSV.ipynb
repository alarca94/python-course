{
 "cells": [
  {
   "cell_type": "markdown",
   "metadata": {},
   "source": [
    "# Python para Lingüistas\n",
    "\n",
    "Notebook 6: Formato CSV\n",
    "\n",
    "Alejandro Ariza\n",
    "\n",
    "University of Barcelona 2022"
   ]
  },
  {
   "cell_type": "markdown",
   "metadata": {},
   "source": [
    "#### Formato CSV\n",
    "\n",
    "CSV es un formato especial de fichero (\"comma separated\") que se utiliza mucho en programación.\n",
    "\n",
    "Para procesar un fichero .csv necesitaréis importar la librería \"csv\"."
   ]
  },
  {
   "cell_type": "code",
   "execution_count": 1,
   "metadata": {},
   "outputs": [],
   "source": [
    "import csv"
   ]
  },
  {
   "cell_type": "code",
   "execution_count": 2,
   "metadata": {},
   "outputs": [
    {
     "name": "stdout",
     "output_type": "stream",
     "text": [
      "['Release Year,Title,Origin/Ethnicity,Director,Cast,Genre,Wiki Page,Plot\\n', '1901,Kansas Saloon Smashers,American,Unknown,,unknown,https://en.wikipedia.org/wiki/Kansas_Saloon_Smashers,\"A bartender is working at a saloon, serving drinks to customers. After he fills a stereotypically Irish man\\'s bucket with beer, Carrie Nation and her followers burst inside. They assault the Irish man, pulling his hat over his eyes and then dumping the beer over his head. The group then begin wrecking the bar, smashing the fixtures, mirrors, and breaking the cash register. The bartender then sprays seltzer water in Nation\\'s face before a group of policemen appear and order everybody to leave.[1]\"\\n', '1901,Love by the Light of the Moon,American,Unknown,,unknown,https://en.wikipedia.org/wiki/Love_by_the_Light_of_the_Moon,\"The moon, painted with a smiling face hangs over a park at night. A young couple walking past a fence learn on a railing and look up. The moon smiles. They embrace, and the moon\\'s smile gets bigger. They then sit down on a bench by a tree. The moon\\'s view is blocked, causing him to frown. In the last scene, the man fans the woman with his hat because the moon has left the sky and is perched over her shoulder to see everything better.\"\\n', '1901,The Martyred Presidents,American,Unknown,,unknown,https://en.wikipedia.org/wiki/The_Martyred_Presidents,\"The film, just over a minute long, is composed of two shots. In the first, a girl sits at the base of an altar or tomb, her face hidden from the camera. At the center of the altar, a viewing portal displays the portraits of three U.S. Presidents—Abraham Lincoln, James A. Garfield, and William McKinley—each victims of assassination.\\n', 'In the second shot, which runs just over eight seconds long, an assassin kneels feet of Lady Justice.\"\\n']\n",
      "\n",
      "\n",
      "1901,The Martyred Presidents,American,Unknown,,unknown,https://en.wikipedia.org/wiki/The_Martyred_Presidents,\"The film, just over a minute long, is composed of two shots. In the first, a girl sits at the base of an altar or tomb, her face hidden from the camera. At the center of the altar, a viewing portal displays the portraits of three U.S. Presidents—Abraham Lincoln, James A. Garfield, and William McKinley—each victims of assassination.\n",
      "\n",
      "In the second shot, which runs just over eight seconds long, an assassin kneels feet of Lady Justice.\"\n",
      "\n"
     ]
    }
   ],
   "source": [
    "# El siguiente código lee un fichero csv como un fichero normal\n",
    "file_name = \"movie_plots.csv\"\n",
    "num_lines = 0\n",
    "raw_corpus = []\n",
    "\n",
    "with open(file_name,\"r\",encoding=\"utf-8\") as inp:\n",
    "    for file_line in inp:\n",
    "        raw_corpus.append(file_line)\n",
    "        num_lines +=1\n",
    "        if num_lines >= 5:\n",
    "            break\n",
    "            \n",
    "# Como podéis ver, funciona aunque es difícil de leer\n",
    "# Podéis ver en la última línea que leer el csv como un fichero de texto divide la línea en dos.\n",
    "print(raw_corpus)\n",
    "print(\"\\n\")\n",
    "print(raw_corpus[3])\n",
    "print(raw_corpus[4])\n"
   ]
  },
  {
   "cell_type": "code",
   "execution_count": 3,
   "metadata": {},
   "outputs": [
    {
     "name": "stdout",
     "output_type": "stream",
     "text": [
      "[['Release Year', 'Title', 'Origin/Ethnicity', 'Director', 'Cast', 'Genre', 'Wiki Page', 'Plot'], ['1901', 'Kansas Saloon Smashers', 'American', 'Unknown', '', 'unknown', 'https://en.wikipedia.org/wiki/Kansas_Saloon_Smashers', \"A bartender is working at a saloon, serving drinks to customers. After he fills a stereotypically Irish man's bucket with beer, Carrie Nation and her followers burst inside. They assault the Irish man, pulling his hat over his eyes and then dumping the beer over his head. The group then begin wrecking the bar, smashing the fixtures, mirrors, and breaking the cash register. The bartender then sprays seltzer water in Nation's face before a group of policemen appear and order everybody to leave.[1]\"], ['1901', 'Love by the Light of the Moon', 'American', 'Unknown', '', 'unknown', 'https://en.wikipedia.org/wiki/Love_by_the_Light_of_the_Moon', \"The moon, painted with a smiling face hangs over a park at night. A young couple walking past a fence learn on a railing and look up. The moon smiles. They embrace, and the moon's smile gets bigger. They then sit down on a bench by a tree. The moon's view is blocked, causing him to frown. In the last scene, the man fans the woman with his hat because the moon has left the sky and is perched over her shoulder to see everything better.\"], ['1901', 'The Martyred Presidents', 'American', 'Unknown', '', 'unknown', 'https://en.wikipedia.org/wiki/The_Martyred_Presidents', 'The film, just over a minute long, is composed of two shots. In the first, a girl sits at the base of an altar or tomb, her face hidden from the camera. At the center of the altar, a viewing portal displays the portraits of three U.S. Presidents—Abraham Lincoln, James A. Garfield, and William McKinley—each victims of assassination.\\nIn the second shot, which runs just over eight seconds long, an assassin kneels feet of Lady Justice.'], ['1901', 'Terrible Teddy, the Grizzly King', 'American', 'Unknown', '', 'unknown', 'https://en.wikipedia.org/wiki/Terrible_Teddy,_the_Grizzly_King', 'Lasting just 61 seconds and consisting of two shots, the first shot is set in a wood during winter. The actor representing then vice-president Theodore Roosevelt enthusiastically hurries down a hillside towards a tree in the foreground. He falls once, but rights himself and cocks his rifle. Two other men, bearing signs reading \"His Photographer\" and \"His Press Agent\" respectively, follow him into the shot; the photographer sets up his camera. \"Teddy\" aims his rifle upward at the tree and fells what appears to be a common house cat, which he then proceeds to stab. \"Teddy\" holds his prize aloft, and the press agent takes notes. The second shot is taken in a slightly different part of the wood, on a path. \"Teddy\" rides the path on his horse towards the camera and out to the left of the shot, followed closely by the press agent and photographer, still dutifully holding their signs.']]\n",
      "\n",
      "\n",
      "['1901', 'The Martyred Presidents', 'American', 'Unknown', '', 'unknown', 'https://en.wikipedia.org/wiki/The_Martyred_Presidents', 'The film, just over a minute long, is composed of two shots. In the first, a girl sits at the base of an altar or tomb, her face hidden from the camera. At the center of the altar, a viewing portal displays the portraits of three U.S. Presidents—Abraham Lincoln, James A. Garfield, and William McKinley—each victims of assassination.\\nIn the second shot, which runs just over eight seconds long, an assassin kneels feet of Lady Justice.']\n",
      "['1901', 'Terrible Teddy, the Grizzly King', 'American', 'Unknown', '', 'unknown', 'https://en.wikipedia.org/wiki/Terrible_Teddy,_the_Grizzly_King', 'Lasting just 61 seconds and consisting of two shots, the first shot is set in a wood during winter. The actor representing then vice-president Theodore Roosevelt enthusiastically hurries down a hillside towards a tree in the foreground. He falls once, but rights himself and cocks his rifle. Two other men, bearing signs reading \"His Photographer\" and \"His Press Agent\" respectively, follow him into the shot; the photographer sets up his camera. \"Teddy\" aims his rifle upward at the tree and fells what appears to be a common house cat, which he then proceeds to stab. \"Teddy\" holds his prize aloft, and the press agent takes notes. The second shot is taken in a slightly different part of the wood, on a path. \"Teddy\" rides the path on his horse towards the camera and out to the left of the shot, followed closely by the press agent and photographer, still dutifully holding their signs.']\n"
     ]
    }
   ],
   "source": [
    "# El siguiente código lee el fichero csv como una lista usando la librería csv\n",
    "file_name = \"movie_plots.csv\"\n",
    "num_lines = 0\n",
    "list_corpus = []\n",
    "\n",
    "with open(file_name,\"r\",encoding=\"utf-8\") as inp:\n",
    "    reader=csv.reader(inp)\n",
    "    for file_row in reader:\n",
    "        list_corpus.append(file_row)\n",
    "        num_lines +=1\n",
    "        if num_lines >= 5:\n",
    "            break\n",
    "            \n",
    "# Esta opción es mejor que la anterior - Es más fácil de leer y no divide las entradas/filas/líneas\n",
    "print(list_corpus)\n",
    "print(\"\\n\")\n",
    "print(list_corpus[3])\n",
    "print(list_corpus[4])"
   ]
  },
  {
   "cell_type": "code",
   "execution_count": 4,
   "metadata": {},
   "outputs": [
    {
     "name": "stdout",
     "output_type": "stream",
     "text": [
      "[{'Release Year': '1901', 'Title': 'Kansas Saloon Smashers', 'Origin/Ethnicity': 'American', 'Director': 'Unknown', 'Cast': '', 'Genre': 'unknown', 'Wiki Page': 'https://en.wikipedia.org/wiki/Kansas_Saloon_Smashers', 'Plot': \"A bartender is working at a saloon, serving drinks to customers. After he fills a stereotypically Irish man's bucket with beer, Carrie Nation and her followers burst inside. They assault the Irish man, pulling his hat over his eyes and then dumping the beer over his head. The group then begin wrecking the bar, smashing the fixtures, mirrors, and breaking the cash register. The bartender then sprays seltzer water in Nation's face before a group of policemen appear and order everybody to leave.[1]\"}, {'Release Year': '1901', 'Title': 'Love by the Light of the Moon', 'Origin/Ethnicity': 'American', 'Director': 'Unknown', 'Cast': '', 'Genre': 'unknown', 'Wiki Page': 'https://en.wikipedia.org/wiki/Love_by_the_Light_of_the_Moon', 'Plot': \"The moon, painted with a smiling face hangs over a park at night. A young couple walking past a fence learn on a railing and look up. The moon smiles. They embrace, and the moon's smile gets bigger. They then sit down on a bench by a tree. The moon's view is blocked, causing him to frown. In the last scene, the man fans the woman with his hat because the moon has left the sky and is perched over her shoulder to see everything better.\"}, {'Release Year': '1901', 'Title': 'The Martyred Presidents', 'Origin/Ethnicity': 'American', 'Director': 'Unknown', 'Cast': '', 'Genre': 'unknown', 'Wiki Page': 'https://en.wikipedia.org/wiki/The_Martyred_Presidents', 'Plot': 'The film, just over a minute long, is composed of two shots. In the first, a girl sits at the base of an altar or tomb, her face hidden from the camera. At the center of the altar, a viewing portal displays the portraits of three U.S. Presidents—Abraham Lincoln, James A. Garfield, and William McKinley—each victims of assassination.\\nIn the second shot, which runs just over eight seconds long, an assassin kneels feet of Lady Justice.'}, {'Release Year': '1901', 'Title': 'Terrible Teddy, the Grizzly King', 'Origin/Ethnicity': 'American', 'Director': 'Unknown', 'Cast': '', 'Genre': 'unknown', 'Wiki Page': 'https://en.wikipedia.org/wiki/Terrible_Teddy,_the_Grizzly_King', 'Plot': 'Lasting just 61 seconds and consisting of two shots, the first shot is set in a wood during winter. The actor representing then vice-president Theodore Roosevelt enthusiastically hurries down a hillside towards a tree in the foreground. He falls once, but rights himself and cocks his rifle. Two other men, bearing signs reading \"His Photographer\" and \"His Press Agent\" respectively, follow him into the shot; the photographer sets up his camera. \"Teddy\" aims his rifle upward at the tree and fells what appears to be a common house cat, which he then proceeds to stab. \"Teddy\" holds his prize aloft, and the press agent takes notes. The second shot is taken in a slightly different part of the wood, on a path. \"Teddy\" rides the path on his horse towards the camera and out to the left of the shot, followed closely by the press agent and photographer, still dutifully holding their signs.'}, {'Release Year': '1902', 'Title': 'Jack and the Beanstalk', 'Origin/Ethnicity': 'American', 'Director': 'George S. Fleming, Edwin S. Porter', 'Cast': '', 'Genre': 'unknown', 'Wiki Page': 'https://en.wikipedia.org/wiki/Jack_and_the_Beanstalk_(1902_film)', 'Plot': \"The earliest known adaptation of the classic fairytale, this films shows Jack trading his cow for the beans, his mother forcing him to drop them in the front yard, and beig forced upstairs. As he sleeps, Jack is visited by a fairy who shows him glimpses of what will await him when he ascends the bean stalk. In this version, Jack is the son of a deposed king. When Jack wakes up, he finds the beanstalk has grown and he climbs to the top where he enters the giant's home. The giant finds Jack, who narrowly escapes. The giant chases Jack down the bean stalk, but Jack is able to cut it down before the giant can get to safety. He falls and is killed as Jack celebrates. The fairy then reveals that Jack may return home as a prince.\"}]\n",
      "\n",
      "\n",
      "{'Release Year': '1901', 'Title': 'Terrible Teddy, the Grizzly King', 'Origin/Ethnicity': 'American', 'Director': 'Unknown', 'Cast': '', 'Genre': 'unknown', 'Wiki Page': 'https://en.wikipedia.org/wiki/Terrible_Teddy,_the_Grizzly_King', 'Plot': 'Lasting just 61 seconds and consisting of two shots, the first shot is set in a wood during winter. The actor representing then vice-president Theodore Roosevelt enthusiastically hurries down a hillside towards a tree in the foreground. He falls once, but rights himself and cocks his rifle. Two other men, bearing signs reading \"His Photographer\" and \"His Press Agent\" respectively, follow him into the shot; the photographer sets up his camera. \"Teddy\" aims his rifle upward at the tree and fells what appears to be a common house cat, which he then proceeds to stab. \"Teddy\" holds his prize aloft, and the press agent takes notes. The second shot is taken in a slightly different part of the wood, on a path. \"Teddy\" rides the path on his horse towards the camera and out to the left of the shot, followed closely by the press agent and photographer, still dutifully holding their signs.'}\n",
      "{'Release Year': '1902', 'Title': 'Jack and the Beanstalk', 'Origin/Ethnicity': 'American', 'Director': 'George S. Fleming, Edwin S. Porter', 'Cast': '', 'Genre': 'unknown', 'Wiki Page': 'https://en.wikipedia.org/wiki/Jack_and_the_Beanstalk_(1902_film)', 'Plot': \"The earliest known adaptation of the classic fairytale, this films shows Jack trading his cow for the beans, his mother forcing him to drop them in the front yard, and beig forced upstairs. As he sleeps, Jack is visited by a fairy who shows him glimpses of what will await him when he ascends the bean stalk. In this version, Jack is the son of a deposed king. When Jack wakes up, he finds the beanstalk has grown and he climbs to the top where he enters the giant's home. The giant finds Jack, who narrowly escapes. The giant chases Jack down the bean stalk, but Jack is able to cut it down before the giant can get to safety. He falls and is killed as Jack celebrates. The fairy then reveals that Jack may return home as a prince.\"}\n",
      "\n",
      " El título de la tercera entrada es:\n",
      "The Martyred Presidents\n"
     ]
    }
   ],
   "source": [
    "# El siguiente código lee el fichero csv en un diccionario\n",
    "file_name = \"movie_plots.csv\"\n",
    "num_lines = 0\n",
    "dict_corpus = []\n",
    "\n",
    "with open(file_name,\"r\",encoding=\"utf-8\") as inp:\n",
    "    dict_reader=csv.DictReader(inp)\n",
    "    for file_row in dict_reader:\n",
    "        dict_corpus.append(file_row)\n",
    "        num_lines +=1\n",
    "        if num_lines >= 5:\n",
    "            break\n",
    "            \n",
    "# Esta solución es mejor que la anterior puesto que ahora sabemos que significa cada campo\n",
    "print(dict_corpus)\n",
    "print(\"\\n\")\n",
    "print(dict_corpus[3])\n",
    "print(dict_corpus[4])\n",
    "\n",
    "\n",
    "# Podemos acceder a información específica de cada película\n",
    "print(\"\\n El título de la tercera entrada es:\")\n",
    "print(dict_corpus[2][\"Title\"])"
   ]
  },
  {
   "cell_type": "code",
   "execution_count": 17,
   "metadata": {},
   "outputs": [
    {
     "name": "stdout",
     "output_type": "stream",
     "text": [
      "[{'Release Year': '1901', 'Title': 'Kansas Saloon Smashers', 'Origin/Ethnicity': 'American', 'Director': 'Unknown', 'Cast': '', 'Genre': 'unknown', 'Wiki Page': 'https://en.wikipedia.org/wiki/Kansas_Saloon_Smashers', 'Plot': \"A bartender is working at a saloon, serving drinks to customers. After he fills a stereotypically Irish man's bucket with beer, Carrie Nation and her followers burst inside. They assault the Irish man, pulling his hat over his eyes and then dumping the beer over his head. The group then begin wrecking the bar, smashing the fixtures, mirrors, and breaking the cash register. The bartender then sprays seltzer water in Nation's face before a group of policemen appear and order everybody to leave.[1]\"}, {'Release Year': '1901', 'Title': 'Love by the Light of the Moon', 'Origin/Ethnicity': 'American', 'Director': 'Unknown', 'Cast': '', 'Genre': 'unknown', 'Wiki Page': 'https://en.wikipedia.org/wiki/Love_by_the_Light_of_the_Moon', 'Plot': \"The moon, painted with a smiling face hangs over a park at night. A young couple walking past a fence learn on a railing and look up. The moon smiles. They embrace, and the moon's smile gets bigger. They then sit down on a bench by a tree. The moon's view is blocked, causing him to frown. In the last scene, the man fans the woman with his hat because the moon has left the sky and is perched over her shoulder to see everything better.\"}, {'Release Year': '1901', 'Title': 'The Martyred Presidents', 'Origin/Ethnicity': 'American', 'Director': 'Unknown', 'Cast': '', 'Genre': 'unknown', 'Wiki Page': 'https://en.wikipedia.org/wiki/The_Martyred_Presidents', 'Plot': 'The film, just over a minute long, is composed of two shots. In the first, a girl sits at the base of an altar or tomb, her face hidden from the camera. At the center of the altar, a viewing portal displays the portraits of three U.S. Presidents—Abraham Lincoln, James A. Garfield, and William McKinley—each victims of assassination.\\nIn the second shot, which runs just over eight seconds long, an assassin kneels feet of Lady Justice.'}, {'Release Year': '1901', 'Title': 'Terrible Teddy, the Grizzly King', 'Origin/Ethnicity': 'American', 'Director': 'Unknown', 'Cast': '', 'Genre': 'unknown', 'Wiki Page': 'https://en.wikipedia.org/wiki/Terrible_Teddy,_the_Grizzly_King', 'Plot': 'Lasting just 61 seconds and consisting of two shots, the first shot is set in a wood during winter. The actor representing then vice-president Theodore Roosevelt enthusiastically hurries down a hillside towards a tree in the foreground. He falls once, but rights himself and cocks his rifle. Two other men, bearing signs reading \"His Photographer\" and \"His Press Agent\" respectively, follow him into the shot; the photographer sets up his camera. \"Teddy\" aims his rifle upward at the tree and fells what appears to be a common house cat, which he then proceeds to stab. \"Teddy\" holds his prize aloft, and the press agent takes notes. The second shot is taken in a slightly different part of the wood, on a path. \"Teddy\" rides the path on his horse towards the camera and out to the left of the shot, followed closely by the press agent and photographer, still dutifully holding their signs.'}, {'Release Year': '1902', 'Title': 'Jack and the Beanstalk', 'Origin/Ethnicity': 'American', 'Director': 'George S. Fleming, Edwin S. Porter', 'Cast': '', 'Genre': 'unknown', 'Wiki Page': 'https://en.wikipedia.org/wiki/Jack_and_the_Beanstalk_(1902_film)', 'Plot': \"The earliest known adaptation of the classic fairytale, this films shows Jack trading his cow for the beans, his mother forcing him to drop them in the front yard, and beig forced upstairs. As he sleeps, Jack is visited by a fairy who shows him glimpses of what will await him when he ascends the bean stalk. In this version, Jack is the son of a deposed king. When Jack wakes up, he finds the beanstalk has grown and he climbs to the top where he enters the giant's home. The giant finds Jack, who narrowly escapes. The giant chases Jack down the bean stalk, but Jack is able to cut it down before the giant can get to safety. He falls and is killed as Jack celebrates. The fairy then reveals that Jack may return home as a prince.\"}]\n"
     ]
    }
   ],
   "source": [
    "# Tarea 1: manualmente crear un diccionario\n",
    "# \n",
    "# Esta tarea es para practicar vuestras habilidades de programación generales y vuestro conocimiento del formato csv\n",
    "# El objetivo es crear manualmente el diccionario que crea la librería csv utilizando un lector de fichero normal\n",
    "#\n",
    "# El csv.reader() lee el fichero línea por línea y devuelve una lista\n",
    "# Vuestra tarea es convertir esta lista en un diccionario\n",
    "# Primero, deberéis procesar la primera línea del fichero y obtener el nombre de todas las columnas/campos\n",
    "# Entonces, por cada línea del fichero, tendreís que leer los valores y asignarlos a los campos correctos del\n",
    "# diccionario\n",
    "\n",
    "file_name = \"movie_plots.csv\"\n",
    "num_lines = 0\n",
    "list_corpus = []\n",
    "\n",
    "with open(file_name,\"r\",encoding=\"utf-8\") as inp:\n",
    "    reader = csv.reader(inp)\n",
    "    for i, line in enumerate(reader):\n",
    "        if i == 0:\n",
    "            header = line\n",
    "        else:\n",
    "            example = {header[j]: line[j] for j in range(len(line))}\n",
    "            # example = {h_j: l_j for h_j, l_j in zip(header, line)}\n",
    "            list_corpus.append(example)\n",
    "            \n",
    "# print(header)\n",
    "# print(line)\n",
    "# print(list(zip(header, line)))\n",
    "            \n",
    "print(list_corpus[:5])"
   ]
  },
  {
   "cell_type": "code",
   "execution_count": 20,
   "metadata": {},
   "outputs": [
    {
     "data": {
      "text/plain": [
       "[(0, 45), (1, 89), (2, 3), (3, 2), (4, 1)]"
      ]
     },
     "execution_count": 20,
     "metadata": {},
     "output_type": "execute_result"
    }
   ],
   "source": [
    "# Viasualizar el comportamiento de enumerate(Iterable)\n",
    "a = [45, 89, 3, 2, 1]\n",
    "list(enumerate(a))"
   ]
  },
  {
   "cell_type": "code",
   "execution_count": 21,
   "metadata": {},
   "outputs": [
    {
     "name": "stdout",
     "output_type": "stream",
     "text": [
      "[(0, 45), (1, 89), (2, 3), (3, 2), (4, 1)]\n"
     ]
    }
   ],
   "source": [
    "# Alternativa a enumerate() con for-loop y un contador\n",
    "contador = 0\n",
    "\n",
    "result = []\n",
    "for element in a:\n",
    "    result.append((contador, element))\n",
    "    contador += 1\n",
    "    \n",
    "print(result)"
   ]
  },
  {
   "cell_type": "code",
   "execution_count": 22,
   "metadata": {},
   "outputs": [
    {
     "data": {
      "text/plain": [
       "True"
      ]
     },
     "execution_count": 22,
     "metadata": {},
     "output_type": "execute_result"
    }
   ],
   "source": [
    "# Comprobar si un número está presente en una lista con el operador in\n",
    "3 in a"
   ]
  },
  {
   "cell_type": "code",
   "execution_count": 26,
   "metadata": {},
   "outputs": [
    {
     "name": "stdout",
     "output_type": "stream",
     "text": [
      "45\n",
      "89\n",
      "3\n",
      "True\n"
     ]
    }
   ],
   "source": [
    "# Comprobar si un número está presente en una lista con un for-loop. El comando break nos permite\n",
    "# finalizar el bucle una vez lo hemos encontrado\n",
    "for el in a:\n",
    "    print(el)\n",
    "    if 3 == el:\n",
    "        print(True)\n",
    "        break"
   ]
  },
  {
   "cell_type": "code",
   "execution_count": null,
   "metadata": {},
   "outputs": [],
   "source": [
    "# En la definición de una función puedes definir un valor por defecto para un parámetro OPCIONAL\n",
    "def func_name(param1, param2, max_df=0.9):\n",
    "    pass"
   ]
  }
 ],
 "metadata": {
  "kernelspec": {
   "display_name": "Python 3",
   "language": "python",
   "name": "python3"
  },
  "language_info": {
   "codemirror_mode": {
    "name": "ipython",
    "version": 3
   },
   "file_extension": ".py",
   "mimetype": "text/x-python",
   "name": "python",
   "nbconvert_exporter": "python",
   "pygments_lexer": "ipython3",
   "version": "3.8.8"
  }
 },
 "nbformat": 4,
 "nbformat_minor": 2
}
